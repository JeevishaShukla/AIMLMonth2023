{
  "nbformat": 4,
  "nbformat_minor": 0,
  "metadata": {
    "colab": {
      "provenance": [],
      "mount_file_id": "1TWxRmxmffrZdsmCR5b6U3y6uSNeWSLQP",
      "authorship_tag": "ABX9TyOakNUtNKwEeziP/yjFHGqW",
      "include_colab_link": true
    },
    "kernelspec": {
      "name": "python3",
      "display_name": "Python 3"
    },
    "language_info": {
      "name": "python"
    }
  },
  "cells": [
    {
      "cell_type": "markdown",
      "metadata": {
        "id": "view-in-github",
        "colab_type": "text"
      },
      "source": [
        "<a href=\"https://colab.research.google.com/github/JeevishaShukla/AIMLMonth2023/blob/main/%3C23162%3E%3CJeevishaShukla%3EMinorProject_Honda_CarsModelResale.ipynb\" target=\"_parent\"><img src=\"https://colab.research.google.com/assets/colab-badge.svg\" alt=\"Open In Colab\"/></a>"
      ]
    },
    {
      "cell_type": "markdown",
      "source": [
        "#Minor-Project (Honda-Cars Model Resale)"
      ],
      "metadata": {
        "id": "28dX_DQdzuTs"
      }
    },
    {
      "cell_type": "markdown",
      "source": [
        "#TASK - 1"
      ],
      "metadata": {
        "id": "EvAnnhYsEPUc"
      }
    },
    {
      "cell_type": "code",
      "execution_count": null,
      "metadata": {
        "id": "-MbMg4r1_D96"
      },
      "outputs": [],
      "source": [
        "#Importing Libraries Numpy and Panda\n",
        "import pandas as pd\n",
        "import matplotlib.pyplot as plt\n",
        "import seaborn as sns\n"
      ]
    },
    {
      "cell_type": "code",
      "source": [
        "import numpy as np"
      ],
      "metadata": {
        "id": "mQaxaCfg_HHT"
      },
      "execution_count": null,
      "outputs": []
    },
    {
      "cell_type": "code",
      "source": [
        "!wget (https://www.kaggle.com/datasets/omartorres25/honda-data)"
      ],
      "metadata": {
        "colab": {
          "base_uri": "https://localhost:8080/"
        },
        "id": "TcJNEZbL_RSy",
        "outputId": "b123d945-d238-431f-ecda-b844f322da57"
      },
      "execution_count": null,
      "outputs": [
        {
          "output_type": "stream",
          "name": "stdout",
          "text": [
            "/bin/bash: -c: line 0: syntax error near unexpected token `https://www.kaggle.com/datasets/omartorres25/honda-data'\n",
            "/bin/bash: -c: line 0: `wget (https://www.kaggle.com/datasets/omartorres25/honda-data)'\n"
          ]
        }
      ]
    },
    {
      "cell_type": "code",
      "source": [
        "data = pd.read_csv('/content/honda_sell_data.csv')"
      ],
      "metadata": {
        "id": "QRpMTjy3_VWx"
      },
      "execution_count": null,
      "outputs": []
    },
    {
      "cell_type": "markdown",
      "source": [
        "#Data cleaning, Removal of NaN values and unnecessary rows and columns\n"
      ],
      "metadata": {
        "id": "R5J3L6juY9Lo"
      }
    },
    {
      "cell_type": "code",
      "source": [
        "#Data cleansing , Removing NAN value and unnecessary rows and columns\n",
        "data.head()"
      ],
      "metadata": {
        "colab": {
          "base_uri": "https://localhost:8080/",
          "height": 455
        },
        "id": "HamPoh9j_lCs",
        "outputId": "994acd77-e11f-4e9f-de56-647a993af801"
      },
      "execution_count": null,
      "outputs": [
        {
          "output_type": "execute_result",
          "data": {
            "text/plain": [
              "   Year   Make                      Model Condition    Price  Consumer_Rating  \\\n",
              "0  2023  Honda              Ridgeline RTL       New  $46,370              4.8   \n",
              "1  2023  Honda          CR-V Hybrid Sport       New  $34,150              1.7   \n",
              "2  2023  Honda          CR-V Hybrid Sport       New  $34,245              4.7   \n",
              "3  2022  Honda           Pilot TrailSport       New  $46,500              5.0   \n",
              "4  2023  Honda  CR-V Hybrid Sport Touring       New  $40,395              4.4   \n",
              "\n",
              "   Consumer_Review_#           Exterior_Color Interior_Color  \\\n",
              "0                  9     Platinum White Pearl          Beige   \n",
              "1                 24     Platinum White Pearl          Black   \n",
              "2               2869  Meteorite Gray Metallic          Black   \n",
              "3                 12         Sonic Gray Pearl          Black   \n",
              "4                 12      Crystal Black Pearl          Black   \n",
              "\n",
              "          Drivetrain  ...   Stock_# Mileage Comfort_Rating  \\\n",
              "0    All-wheel Drive  ...  00830164      10            5.0   \n",
              "1                FWD  ...   6402953       –            5.0   \n",
              "2  Front-wheel Drive  ...  PH704805       1            5.0   \n",
              "3    All-wheel Drive  ...  5700429B       5            5.0   \n",
              "4    All-wheel Drive  ...   5705954       5            5.0   \n",
              "\n",
              "  Interior_Design_Rating Performance_Rating Value_For_Money_Rating  \\\n",
              "0                    4.8                4.8                    4.2   \n",
              "1                    3.0                4.0                    4.0   \n",
              "2                    3.0                4.0                    4.0   \n",
              "3                    5.0                5.0                    5.0   \n",
              "4                    3.0                4.0                    4.0   \n",
              "\n",
              "  Exterior_Styling_Rating  Reliability_Rating  State  Seller_Type  \n",
              "0                     5.0                 5.0     CA       Dealer  \n",
              "1                     5.0                 5.0     CA       Dealer  \n",
              "2                     5.0                 5.0     CA       Dealer  \n",
              "3                     5.0                 5.0     CA       Dealer  \n",
              "4                     5.0                 5.0     CA       Dealer  \n",
              "\n",
              "[5 rows x 25 columns]"
            ],
            "text/html": [
              "\n",
              "  <div id=\"df-4ba11e18-a601-4ec3-a891-5f95043e1273\">\n",
              "    <div class=\"colab-df-container\">\n",
              "      <div>\n",
              "<style scoped>\n",
              "    .dataframe tbody tr th:only-of-type {\n",
              "        vertical-align: middle;\n",
              "    }\n",
              "\n",
              "    .dataframe tbody tr th {\n",
              "        vertical-align: top;\n",
              "    }\n",
              "\n",
              "    .dataframe thead th {\n",
              "        text-align: right;\n",
              "    }\n",
              "</style>\n",
              "<table border=\"1\" class=\"dataframe\">\n",
              "  <thead>\n",
              "    <tr style=\"text-align: right;\">\n",
              "      <th></th>\n",
              "      <th>Year</th>\n",
              "      <th>Make</th>\n",
              "      <th>Model</th>\n",
              "      <th>Condition</th>\n",
              "      <th>Price</th>\n",
              "      <th>Consumer_Rating</th>\n",
              "      <th>Consumer_Review_#</th>\n",
              "      <th>Exterior_Color</th>\n",
              "      <th>Interior_Color</th>\n",
              "      <th>Drivetrain</th>\n",
              "      <th>...</th>\n",
              "      <th>Stock_#</th>\n",
              "      <th>Mileage</th>\n",
              "      <th>Comfort_Rating</th>\n",
              "      <th>Interior_Design_Rating</th>\n",
              "      <th>Performance_Rating</th>\n",
              "      <th>Value_For_Money_Rating</th>\n",
              "      <th>Exterior_Styling_Rating</th>\n",
              "      <th>Reliability_Rating</th>\n",
              "      <th>State</th>\n",
              "      <th>Seller_Type</th>\n",
              "    </tr>\n",
              "  </thead>\n",
              "  <tbody>\n",
              "    <tr>\n",
              "      <th>0</th>\n",
              "      <td>2023</td>\n",
              "      <td>Honda</td>\n",
              "      <td>Ridgeline RTL</td>\n",
              "      <td>New</td>\n",
              "      <td>$46,370</td>\n",
              "      <td>4.8</td>\n",
              "      <td>9</td>\n",
              "      <td>Platinum White Pearl</td>\n",
              "      <td>Beige</td>\n",
              "      <td>All-wheel Drive</td>\n",
              "      <td>...</td>\n",
              "      <td>00830164</td>\n",
              "      <td>10</td>\n",
              "      <td>5.0</td>\n",
              "      <td>4.8</td>\n",
              "      <td>4.8</td>\n",
              "      <td>4.2</td>\n",
              "      <td>5.0</td>\n",
              "      <td>5.0</td>\n",
              "      <td>CA</td>\n",
              "      <td>Dealer</td>\n",
              "    </tr>\n",
              "    <tr>\n",
              "      <th>1</th>\n",
              "      <td>2023</td>\n",
              "      <td>Honda</td>\n",
              "      <td>CR-V Hybrid Sport</td>\n",
              "      <td>New</td>\n",
              "      <td>$34,150</td>\n",
              "      <td>1.7</td>\n",
              "      <td>24</td>\n",
              "      <td>Platinum White Pearl</td>\n",
              "      <td>Black</td>\n",
              "      <td>FWD</td>\n",
              "      <td>...</td>\n",
              "      <td>6402953</td>\n",
              "      <td>–</td>\n",
              "      <td>5.0</td>\n",
              "      <td>3.0</td>\n",
              "      <td>4.0</td>\n",
              "      <td>4.0</td>\n",
              "      <td>5.0</td>\n",
              "      <td>5.0</td>\n",
              "      <td>CA</td>\n",
              "      <td>Dealer</td>\n",
              "    </tr>\n",
              "    <tr>\n",
              "      <th>2</th>\n",
              "      <td>2023</td>\n",
              "      <td>Honda</td>\n",
              "      <td>CR-V Hybrid Sport</td>\n",
              "      <td>New</td>\n",
              "      <td>$34,245</td>\n",
              "      <td>4.7</td>\n",
              "      <td>2869</td>\n",
              "      <td>Meteorite Gray Metallic</td>\n",
              "      <td>Black</td>\n",
              "      <td>Front-wheel Drive</td>\n",
              "      <td>...</td>\n",
              "      <td>PH704805</td>\n",
              "      <td>1</td>\n",
              "      <td>5.0</td>\n",
              "      <td>3.0</td>\n",
              "      <td>4.0</td>\n",
              "      <td>4.0</td>\n",
              "      <td>5.0</td>\n",
              "      <td>5.0</td>\n",
              "      <td>CA</td>\n",
              "      <td>Dealer</td>\n",
              "    </tr>\n",
              "    <tr>\n",
              "      <th>3</th>\n",
              "      <td>2022</td>\n",
              "      <td>Honda</td>\n",
              "      <td>Pilot TrailSport</td>\n",
              "      <td>New</td>\n",
              "      <td>$46,500</td>\n",
              "      <td>5.0</td>\n",
              "      <td>12</td>\n",
              "      <td>Sonic Gray Pearl</td>\n",
              "      <td>Black</td>\n",
              "      <td>All-wheel Drive</td>\n",
              "      <td>...</td>\n",
              "      <td>5700429B</td>\n",
              "      <td>5</td>\n",
              "      <td>5.0</td>\n",
              "      <td>5.0</td>\n",
              "      <td>5.0</td>\n",
              "      <td>5.0</td>\n",
              "      <td>5.0</td>\n",
              "      <td>5.0</td>\n",
              "      <td>CA</td>\n",
              "      <td>Dealer</td>\n",
              "    </tr>\n",
              "    <tr>\n",
              "      <th>4</th>\n",
              "      <td>2023</td>\n",
              "      <td>Honda</td>\n",
              "      <td>CR-V Hybrid Sport Touring</td>\n",
              "      <td>New</td>\n",
              "      <td>$40,395</td>\n",
              "      <td>4.4</td>\n",
              "      <td>12</td>\n",
              "      <td>Crystal Black Pearl</td>\n",
              "      <td>Black</td>\n",
              "      <td>All-wheel Drive</td>\n",
              "      <td>...</td>\n",
              "      <td>5705954</td>\n",
              "      <td>5</td>\n",
              "      <td>5.0</td>\n",
              "      <td>3.0</td>\n",
              "      <td>4.0</td>\n",
              "      <td>4.0</td>\n",
              "      <td>5.0</td>\n",
              "      <td>5.0</td>\n",
              "      <td>CA</td>\n",
              "      <td>Dealer</td>\n",
              "    </tr>\n",
              "  </tbody>\n",
              "</table>\n",
              "<p>5 rows × 25 columns</p>\n",
              "</div>\n",
              "      <button class=\"colab-df-convert\" onclick=\"convertToInteractive('df-4ba11e18-a601-4ec3-a891-5f95043e1273')\"\n",
              "              title=\"Convert this dataframe to an interactive table.\"\n",
              "              style=\"display:none;\">\n",
              "        \n",
              "  <svg xmlns=\"http://www.w3.org/2000/svg\" height=\"24px\"viewBox=\"0 0 24 24\"\n",
              "       width=\"24px\">\n",
              "    <path d=\"M0 0h24v24H0V0z\" fill=\"none\"/>\n",
              "    <path d=\"M18.56 5.44l.94 2.06.94-2.06 2.06-.94-2.06-.94-.94-2.06-.94 2.06-2.06.94zm-11 1L8.5 8.5l.94-2.06 2.06-.94-2.06-.94L8.5 2.5l-.94 2.06-2.06.94zm10 10l.94 2.06.94-2.06 2.06-.94-2.06-.94-.94-2.06-.94 2.06-2.06.94z\"/><path d=\"M17.41 7.96l-1.37-1.37c-.4-.4-.92-.59-1.43-.59-.52 0-1.04.2-1.43.59L10.3 9.45l-7.72 7.72c-.78.78-.78 2.05 0 2.83L4 21.41c.39.39.9.59 1.41.59.51 0 1.02-.2 1.41-.59l7.78-7.78 2.81-2.81c.8-.78.8-2.07 0-2.86zM5.41 20L4 18.59l7.72-7.72 1.47 1.35L5.41 20z\"/>\n",
              "  </svg>\n",
              "      </button>\n",
              "      \n",
              "  <style>\n",
              "    .colab-df-container {\n",
              "      display:flex;\n",
              "      flex-wrap:wrap;\n",
              "      gap: 12px;\n",
              "    }\n",
              "\n",
              "    .colab-df-convert {\n",
              "      background-color: #E8F0FE;\n",
              "      border: none;\n",
              "      border-radius: 50%;\n",
              "      cursor: pointer;\n",
              "      display: none;\n",
              "      fill: #1967D2;\n",
              "      height: 32px;\n",
              "      padding: 0 0 0 0;\n",
              "      width: 32px;\n",
              "    }\n",
              "\n",
              "    .colab-df-convert:hover {\n",
              "      background-color: #E2EBFA;\n",
              "      box-shadow: 0px 1px 2px rgba(60, 64, 67, 0.3), 0px 1px 3px 1px rgba(60, 64, 67, 0.15);\n",
              "      fill: #174EA6;\n",
              "    }\n",
              "\n",
              "    [theme=dark] .colab-df-convert {\n",
              "      background-color: #3B4455;\n",
              "      fill: #D2E3FC;\n",
              "    }\n",
              "\n",
              "    [theme=dark] .colab-df-convert:hover {\n",
              "      background-color: #434B5C;\n",
              "      box-shadow: 0px 1px 3px 1px rgba(0, 0, 0, 0.15);\n",
              "      filter: drop-shadow(0px 1px 2px rgba(0, 0, 0, 0.3));\n",
              "      fill: #FFFFFF;\n",
              "    }\n",
              "  </style>\n",
              "\n",
              "      <script>\n",
              "        const buttonEl =\n",
              "          document.querySelector('#df-4ba11e18-a601-4ec3-a891-5f95043e1273 button.colab-df-convert');\n",
              "        buttonEl.style.display =\n",
              "          google.colab.kernel.accessAllowed ? 'block' : 'none';\n",
              "\n",
              "        async function convertToInteractive(key) {\n",
              "          const element = document.querySelector('#df-4ba11e18-a601-4ec3-a891-5f95043e1273');\n",
              "          const dataTable =\n",
              "            await google.colab.kernel.invokeFunction('convertToInteractive',\n",
              "                                                     [key], {});\n",
              "          if (!dataTable) return;\n",
              "\n",
              "          const docLinkHtml = 'Like what you see? Visit the ' +\n",
              "            '<a target=\"_blank\" href=https://colab.research.google.com/notebooks/data_table.ipynb>data table notebook</a>'\n",
              "            + ' to learn more about interactive tables.';\n",
              "          element.innerHTML = '';\n",
              "          dataTable['output_type'] = 'display_data';\n",
              "          await google.colab.output.renderOutput(dataTable, element);\n",
              "          const docLink = document.createElement('div');\n",
              "          docLink.innerHTML = docLinkHtml;\n",
              "          element.appendChild(docLink);\n",
              "        }\n",
              "      </script>\n",
              "    </div>\n",
              "  </div>\n",
              "  "
            ]
          },
          "metadata": {},
          "execution_count": 8
        }
      ]
    },
    {
      "cell_type": "code",
      "source": [
        "data.tail()"
      ],
      "metadata": {
        "colab": {
          "base_uri": "https://localhost:8080/",
          "height": 386
        },
        "id": "u-R97R0C_qtH",
        "outputId": "97d861d9-5a4b-4e11-9f7e-d8c05255ef86"
      },
      "execution_count": null,
      "outputs": [
        {
          "output_type": "execute_result",
          "data": {
            "text/plain": [
              "      Year   Make         Model Condition    Price  Consumer_Rating  \\\n",
              "4994  2018  Honda  Accord Sport      Used  $19,999              5.0   \n",
              "4995  2020  Honda        Fit LX      Used  $17,495              4.3   \n",
              "4996  2018  Honda   Civic Sport      Used  $19,500              4.3   \n",
              "4997  2011  Honda   Accord EX-L      Used  $17,998              4.6   \n",
              "4998  2023  Honda   Pilot Elite       New  $53,325              4.3   \n",
              "\n",
              "      Consumer_Review_#         Exterior_Color Interior_Color  \\\n",
              "4994               3234                  White          Black   \n",
              "4995                 54                    Red          Black   \n",
              "4996               1925     White Orchid Pearl          Beige   \n",
              "4997                  4                  Black          Black   \n",
              "4998                240  Modern Steel Metallic          Brown   \n",
              "\n",
              "             Drivetrain  ...    Stock_# Mileage Comfort_Rating  \\\n",
              "4994  Front-wheel Drive  ...     U20361   64719            4.8   \n",
              "4995  Front-wheel Drive  ...      36117   40902            4.7   \n",
              "4996  Front-wheel Drive  ...  NA073727A   82906            4.7   \n",
              "4997  Front-wheel Drive  ...   22941503   88050            4.4   \n",
              "4998    All-wheel Drive  ...    H000466       0            NaN   \n",
              "\n",
              "     Interior_Design_Rating Performance_Rating Value_For_Money_Rating  \\\n",
              "4994                    4.8                4.7                    4.7   \n",
              "4995                    4.6                4.7                    4.8   \n",
              "4996                    4.7                4.8                    4.8   \n",
              "4997                    4.5                4.4                    4.6   \n",
              "4998                    NaN                NaN                    NaN   \n",
              "\n",
              "     Exterior_Styling_Rating  Reliability_Rating  State  Seller_Type  \n",
              "4994                     4.8                 4.8     NY       Dealer  \n",
              "4995                     4.5                 4.8     NY       Dealer  \n",
              "4996                     4.9                 4.8     CT       Dealer  \n",
              "4997                     4.5                 4.8     MA       Dealer  \n",
              "4998                     NaN                 NaN     ME       Dealer  \n",
              "\n",
              "[5 rows x 25 columns]"
            ],
            "text/html": [
              "\n",
              "  <div id=\"df-b0594ef7-1ef1-4729-9f16-c27d2489a445\">\n",
              "    <div class=\"colab-df-container\">\n",
              "      <div>\n",
              "<style scoped>\n",
              "    .dataframe tbody tr th:only-of-type {\n",
              "        vertical-align: middle;\n",
              "    }\n",
              "\n",
              "    .dataframe tbody tr th {\n",
              "        vertical-align: top;\n",
              "    }\n",
              "\n",
              "    .dataframe thead th {\n",
              "        text-align: right;\n",
              "    }\n",
              "</style>\n",
              "<table border=\"1\" class=\"dataframe\">\n",
              "  <thead>\n",
              "    <tr style=\"text-align: right;\">\n",
              "      <th></th>\n",
              "      <th>Year</th>\n",
              "      <th>Make</th>\n",
              "      <th>Model</th>\n",
              "      <th>Condition</th>\n",
              "      <th>Price</th>\n",
              "      <th>Consumer_Rating</th>\n",
              "      <th>Consumer_Review_#</th>\n",
              "      <th>Exterior_Color</th>\n",
              "      <th>Interior_Color</th>\n",
              "      <th>Drivetrain</th>\n",
              "      <th>...</th>\n",
              "      <th>Stock_#</th>\n",
              "      <th>Mileage</th>\n",
              "      <th>Comfort_Rating</th>\n",
              "      <th>Interior_Design_Rating</th>\n",
              "      <th>Performance_Rating</th>\n",
              "      <th>Value_For_Money_Rating</th>\n",
              "      <th>Exterior_Styling_Rating</th>\n",
              "      <th>Reliability_Rating</th>\n",
              "      <th>State</th>\n",
              "      <th>Seller_Type</th>\n",
              "    </tr>\n",
              "  </thead>\n",
              "  <tbody>\n",
              "    <tr>\n",
              "      <th>4994</th>\n",
              "      <td>2018</td>\n",
              "      <td>Honda</td>\n",
              "      <td>Accord Sport</td>\n",
              "      <td>Used</td>\n",
              "      <td>$19,999</td>\n",
              "      <td>5.0</td>\n",
              "      <td>3234</td>\n",
              "      <td>White</td>\n",
              "      <td>Black</td>\n",
              "      <td>Front-wheel Drive</td>\n",
              "      <td>...</td>\n",
              "      <td>U20361</td>\n",
              "      <td>64719</td>\n",
              "      <td>4.8</td>\n",
              "      <td>4.8</td>\n",
              "      <td>4.7</td>\n",
              "      <td>4.7</td>\n",
              "      <td>4.8</td>\n",
              "      <td>4.8</td>\n",
              "      <td>NY</td>\n",
              "      <td>Dealer</td>\n",
              "    </tr>\n",
              "    <tr>\n",
              "      <th>4995</th>\n",
              "      <td>2020</td>\n",
              "      <td>Honda</td>\n",
              "      <td>Fit LX</td>\n",
              "      <td>Used</td>\n",
              "      <td>$17,495</td>\n",
              "      <td>4.3</td>\n",
              "      <td>54</td>\n",
              "      <td>Red</td>\n",
              "      <td>Black</td>\n",
              "      <td>Front-wheel Drive</td>\n",
              "      <td>...</td>\n",
              "      <td>36117</td>\n",
              "      <td>40902</td>\n",
              "      <td>4.7</td>\n",
              "      <td>4.6</td>\n",
              "      <td>4.7</td>\n",
              "      <td>4.8</td>\n",
              "      <td>4.5</td>\n",
              "      <td>4.8</td>\n",
              "      <td>NY</td>\n",
              "      <td>Dealer</td>\n",
              "    </tr>\n",
              "    <tr>\n",
              "      <th>4996</th>\n",
              "      <td>2018</td>\n",
              "      <td>Honda</td>\n",
              "      <td>Civic Sport</td>\n",
              "      <td>Used</td>\n",
              "      <td>$19,500</td>\n",
              "      <td>4.3</td>\n",
              "      <td>1925</td>\n",
              "      <td>White Orchid Pearl</td>\n",
              "      <td>Beige</td>\n",
              "      <td>Front-wheel Drive</td>\n",
              "      <td>...</td>\n",
              "      <td>NA073727A</td>\n",
              "      <td>82906</td>\n",
              "      <td>4.7</td>\n",
              "      <td>4.7</td>\n",
              "      <td>4.8</td>\n",
              "      <td>4.8</td>\n",
              "      <td>4.9</td>\n",
              "      <td>4.8</td>\n",
              "      <td>CT</td>\n",
              "      <td>Dealer</td>\n",
              "    </tr>\n",
              "    <tr>\n",
              "      <th>4997</th>\n",
              "      <td>2011</td>\n",
              "      <td>Honda</td>\n",
              "      <td>Accord EX-L</td>\n",
              "      <td>Used</td>\n",
              "      <td>$17,998</td>\n",
              "      <td>4.6</td>\n",
              "      <td>4</td>\n",
              "      <td>Black</td>\n",
              "      <td>Black</td>\n",
              "      <td>Front-wheel Drive</td>\n",
              "      <td>...</td>\n",
              "      <td>22941503</td>\n",
              "      <td>88050</td>\n",
              "      <td>4.4</td>\n",
              "      <td>4.5</td>\n",
              "      <td>4.4</td>\n",
              "      <td>4.6</td>\n",
              "      <td>4.5</td>\n",
              "      <td>4.8</td>\n",
              "      <td>MA</td>\n",
              "      <td>Dealer</td>\n",
              "    </tr>\n",
              "    <tr>\n",
              "      <th>4998</th>\n",
              "      <td>2023</td>\n",
              "      <td>Honda</td>\n",
              "      <td>Pilot Elite</td>\n",
              "      <td>New</td>\n",
              "      <td>$53,325</td>\n",
              "      <td>4.3</td>\n",
              "      <td>240</td>\n",
              "      <td>Modern Steel Metallic</td>\n",
              "      <td>Brown</td>\n",
              "      <td>All-wheel Drive</td>\n",
              "      <td>...</td>\n",
              "      <td>H000466</td>\n",
              "      <td>0</td>\n",
              "      <td>NaN</td>\n",
              "      <td>NaN</td>\n",
              "      <td>NaN</td>\n",
              "      <td>NaN</td>\n",
              "      <td>NaN</td>\n",
              "      <td>NaN</td>\n",
              "      <td>ME</td>\n",
              "      <td>Dealer</td>\n",
              "    </tr>\n",
              "  </tbody>\n",
              "</table>\n",
              "<p>5 rows × 25 columns</p>\n",
              "</div>\n",
              "      <button class=\"colab-df-convert\" onclick=\"convertToInteractive('df-b0594ef7-1ef1-4729-9f16-c27d2489a445')\"\n",
              "              title=\"Convert this dataframe to an interactive table.\"\n",
              "              style=\"display:none;\">\n",
              "        \n",
              "  <svg xmlns=\"http://www.w3.org/2000/svg\" height=\"24px\"viewBox=\"0 0 24 24\"\n",
              "       width=\"24px\">\n",
              "    <path d=\"M0 0h24v24H0V0z\" fill=\"none\"/>\n",
              "    <path d=\"M18.56 5.44l.94 2.06.94-2.06 2.06-.94-2.06-.94-.94-2.06-.94 2.06-2.06.94zm-11 1L8.5 8.5l.94-2.06 2.06-.94-2.06-.94L8.5 2.5l-.94 2.06-2.06.94zm10 10l.94 2.06.94-2.06 2.06-.94-2.06-.94-.94-2.06-.94 2.06-2.06.94z\"/><path d=\"M17.41 7.96l-1.37-1.37c-.4-.4-.92-.59-1.43-.59-.52 0-1.04.2-1.43.59L10.3 9.45l-7.72 7.72c-.78.78-.78 2.05 0 2.83L4 21.41c.39.39.9.59 1.41.59.51 0 1.02-.2 1.41-.59l7.78-7.78 2.81-2.81c.8-.78.8-2.07 0-2.86zM5.41 20L4 18.59l7.72-7.72 1.47 1.35L5.41 20z\"/>\n",
              "  </svg>\n",
              "      </button>\n",
              "      \n",
              "  <style>\n",
              "    .colab-df-container {\n",
              "      display:flex;\n",
              "      flex-wrap:wrap;\n",
              "      gap: 12px;\n",
              "    }\n",
              "\n",
              "    .colab-df-convert {\n",
              "      background-color: #E8F0FE;\n",
              "      border: none;\n",
              "      border-radius: 50%;\n",
              "      cursor: pointer;\n",
              "      display: none;\n",
              "      fill: #1967D2;\n",
              "      height: 32px;\n",
              "      padding: 0 0 0 0;\n",
              "      width: 32px;\n",
              "    }\n",
              "\n",
              "    .colab-df-convert:hover {\n",
              "      background-color: #E2EBFA;\n",
              "      box-shadow: 0px 1px 2px rgba(60, 64, 67, 0.3), 0px 1px 3px 1px rgba(60, 64, 67, 0.15);\n",
              "      fill: #174EA6;\n",
              "    }\n",
              "\n",
              "    [theme=dark] .colab-df-convert {\n",
              "      background-color: #3B4455;\n",
              "      fill: #D2E3FC;\n",
              "    }\n",
              "\n",
              "    [theme=dark] .colab-df-convert:hover {\n",
              "      background-color: #434B5C;\n",
              "      box-shadow: 0px 1px 3px 1px rgba(0, 0, 0, 0.15);\n",
              "      filter: drop-shadow(0px 1px 2px rgba(0, 0, 0, 0.3));\n",
              "      fill: #FFFFFF;\n",
              "    }\n",
              "  </style>\n",
              "\n",
              "      <script>\n",
              "        const buttonEl =\n",
              "          document.querySelector('#df-b0594ef7-1ef1-4729-9f16-c27d2489a445 button.colab-df-convert');\n",
              "        buttonEl.style.display =\n",
              "          google.colab.kernel.accessAllowed ? 'block' : 'none';\n",
              "\n",
              "        async function convertToInteractive(key) {\n",
              "          const element = document.querySelector('#df-b0594ef7-1ef1-4729-9f16-c27d2489a445');\n",
              "          const dataTable =\n",
              "            await google.colab.kernel.invokeFunction('convertToInteractive',\n",
              "                                                     [key], {});\n",
              "          if (!dataTable) return;\n",
              "\n",
              "          const docLinkHtml = 'Like what you see? Visit the ' +\n",
              "            '<a target=\"_blank\" href=https://colab.research.google.com/notebooks/data_table.ipynb>data table notebook</a>'\n",
              "            + ' to learn more about interactive tables.';\n",
              "          element.innerHTML = '';\n",
              "          dataTable['output_type'] = 'display_data';\n",
              "          await google.colab.output.renderOutput(dataTable, element);\n",
              "          const docLink = document.createElement('div');\n",
              "          docLink.innerHTML = docLinkHtml;\n",
              "          element.appendChild(docLink);\n",
              "        }\n",
              "      </script>\n",
              "    </div>\n",
              "  </div>\n",
              "  "
            ]
          },
          "metadata": {},
          "execution_count": 9
        }
      ]
    },
    {
      "cell_type": "code",
      "source": [
        "#no. of rows and columns\n",
        "data.shape"
      ],
      "metadata": {
        "colab": {
          "base_uri": "https://localhost:8080/"
        },
        "id": "bMvL7OjQ_uNC",
        "outputId": "5ab69d6d-1999-4704-a0f5-8e2f2489e33c"
      },
      "execution_count": null,
      "outputs": [
        {
          "output_type": "execute_result",
          "data": {
            "text/plain": [
              "(4999, 25)"
            ]
          },
          "metadata": {},
          "execution_count": 10
        }
      ]
    },
    {
      "cell_type": "code",
      "source": [
        "data.isna()"
      ],
      "metadata": {
        "colab": {
          "base_uri": "https://localhost:8080/",
          "height": 487
        },
        "id": "r5p4-K9C_8zE",
        "outputId": "d70c853d-7c40-4841-fb97-095c22aff880"
      },
      "execution_count": null,
      "outputs": [
        {
          "output_type": "execute_result",
          "data": {
            "text/plain": [
              "       Year   Make  Model  Condition  Price  Consumer_Rating  \\\n",
              "0     False  False  False      False  False            False   \n",
              "1     False  False  False      False  False            False   \n",
              "2     False  False  False      False  False            False   \n",
              "3     False  False  False      False  False            False   \n",
              "4     False  False  False      False  False            False   \n",
              "...     ...    ...    ...        ...    ...              ...   \n",
              "4994  False  False  False      False  False            False   \n",
              "4995  False  False  False      False  False            False   \n",
              "4996  False  False  False      False  False            False   \n",
              "4997  False  False  False      False  False            False   \n",
              "4998  False  False  False      False  False            False   \n",
              "\n",
              "      Consumer_Review_#  Exterior_Color  Interior_Color  Drivetrain  ...  \\\n",
              "0                 False           False           False       False  ...   \n",
              "1                 False           False           False       False  ...   \n",
              "2                 False           False           False       False  ...   \n",
              "3                 False           False           False       False  ...   \n",
              "4                 False           False           False       False  ...   \n",
              "...                 ...             ...             ...         ...  ...   \n",
              "4994              False           False           False       False  ...   \n",
              "4995              False           False           False       False  ...   \n",
              "4996              False           False           False       False  ...   \n",
              "4997              False           False           False       False  ...   \n",
              "4998              False           False           False       False  ...   \n",
              "\n",
              "      Stock_#  Mileage  Comfort_Rating  Interior_Design_Rating  \\\n",
              "0       False    False           False                   False   \n",
              "1       False    False           False                   False   \n",
              "2       False    False           False                   False   \n",
              "3       False    False           False                   False   \n",
              "4       False    False           False                   False   \n",
              "...       ...      ...             ...                     ...   \n",
              "4994    False    False           False                   False   \n",
              "4995    False    False           False                   False   \n",
              "4996    False    False           False                   False   \n",
              "4997    False    False           False                   False   \n",
              "4998    False    False            True                    True   \n",
              "\n",
              "      Performance_Rating  Value_For_Money_Rating  Exterior_Styling_Rating  \\\n",
              "0                  False                   False                    False   \n",
              "1                  False                   False                    False   \n",
              "2                  False                   False                    False   \n",
              "3                  False                   False                    False   \n",
              "4                  False                   False                    False   \n",
              "...                  ...                     ...                      ...   \n",
              "4994               False                   False                    False   \n",
              "4995               False                   False                    False   \n",
              "4996               False                   False                    False   \n",
              "4997               False                   False                    False   \n",
              "4998                True                    True                     True   \n",
              "\n",
              "      Reliability_Rating  State  Seller_Type  \n",
              "0                  False  False        False  \n",
              "1                  False  False        False  \n",
              "2                  False  False        False  \n",
              "3                  False  False        False  \n",
              "4                  False  False        False  \n",
              "...                  ...    ...          ...  \n",
              "4994               False  False        False  \n",
              "4995               False  False        False  \n",
              "4996               False  False        False  \n",
              "4997               False  False        False  \n",
              "4998                True  False        False  \n",
              "\n",
              "[4999 rows x 25 columns]"
            ],
            "text/html": [
              "\n",
              "  <div id=\"df-2a4a2aad-298b-4c36-84c1-d018e7a88161\">\n",
              "    <div class=\"colab-df-container\">\n",
              "      <div>\n",
              "<style scoped>\n",
              "    .dataframe tbody tr th:only-of-type {\n",
              "        vertical-align: middle;\n",
              "    }\n",
              "\n",
              "    .dataframe tbody tr th {\n",
              "        vertical-align: top;\n",
              "    }\n",
              "\n",
              "    .dataframe thead th {\n",
              "        text-align: right;\n",
              "    }\n",
              "</style>\n",
              "<table border=\"1\" class=\"dataframe\">\n",
              "  <thead>\n",
              "    <tr style=\"text-align: right;\">\n",
              "      <th></th>\n",
              "      <th>Year</th>\n",
              "      <th>Make</th>\n",
              "      <th>Model</th>\n",
              "      <th>Condition</th>\n",
              "      <th>Price</th>\n",
              "      <th>Consumer_Rating</th>\n",
              "      <th>Consumer_Review_#</th>\n",
              "      <th>Exterior_Color</th>\n",
              "      <th>Interior_Color</th>\n",
              "      <th>Drivetrain</th>\n",
              "      <th>...</th>\n",
              "      <th>Stock_#</th>\n",
              "      <th>Mileage</th>\n",
              "      <th>Comfort_Rating</th>\n",
              "      <th>Interior_Design_Rating</th>\n",
              "      <th>Performance_Rating</th>\n",
              "      <th>Value_For_Money_Rating</th>\n",
              "      <th>Exterior_Styling_Rating</th>\n",
              "      <th>Reliability_Rating</th>\n",
              "      <th>State</th>\n",
              "      <th>Seller_Type</th>\n",
              "    </tr>\n",
              "  </thead>\n",
              "  <tbody>\n",
              "    <tr>\n",
              "      <th>0</th>\n",
              "      <td>False</td>\n",
              "      <td>False</td>\n",
              "      <td>False</td>\n",
              "      <td>False</td>\n",
              "      <td>False</td>\n",
              "      <td>False</td>\n",
              "      <td>False</td>\n",
              "      <td>False</td>\n",
              "      <td>False</td>\n",
              "      <td>False</td>\n",
              "      <td>...</td>\n",
              "      <td>False</td>\n",
              "      <td>False</td>\n",
              "      <td>False</td>\n",
              "      <td>False</td>\n",
              "      <td>False</td>\n",
              "      <td>False</td>\n",
              "      <td>False</td>\n",
              "      <td>False</td>\n",
              "      <td>False</td>\n",
              "      <td>False</td>\n",
              "    </tr>\n",
              "    <tr>\n",
              "      <th>1</th>\n",
              "      <td>False</td>\n",
              "      <td>False</td>\n",
              "      <td>False</td>\n",
              "      <td>False</td>\n",
              "      <td>False</td>\n",
              "      <td>False</td>\n",
              "      <td>False</td>\n",
              "      <td>False</td>\n",
              "      <td>False</td>\n",
              "      <td>False</td>\n",
              "      <td>...</td>\n",
              "      <td>False</td>\n",
              "      <td>False</td>\n",
              "      <td>False</td>\n",
              "      <td>False</td>\n",
              "      <td>False</td>\n",
              "      <td>False</td>\n",
              "      <td>False</td>\n",
              "      <td>False</td>\n",
              "      <td>False</td>\n",
              "      <td>False</td>\n",
              "    </tr>\n",
              "    <tr>\n",
              "      <th>2</th>\n",
              "      <td>False</td>\n",
              "      <td>False</td>\n",
              "      <td>False</td>\n",
              "      <td>False</td>\n",
              "      <td>False</td>\n",
              "      <td>False</td>\n",
              "      <td>False</td>\n",
              "      <td>False</td>\n",
              "      <td>False</td>\n",
              "      <td>False</td>\n",
              "      <td>...</td>\n",
              "      <td>False</td>\n",
              "      <td>False</td>\n",
              "      <td>False</td>\n",
              "      <td>False</td>\n",
              "      <td>False</td>\n",
              "      <td>False</td>\n",
              "      <td>False</td>\n",
              "      <td>False</td>\n",
              "      <td>False</td>\n",
              "      <td>False</td>\n",
              "    </tr>\n",
              "    <tr>\n",
              "      <th>3</th>\n",
              "      <td>False</td>\n",
              "      <td>False</td>\n",
              "      <td>False</td>\n",
              "      <td>False</td>\n",
              "      <td>False</td>\n",
              "      <td>False</td>\n",
              "      <td>False</td>\n",
              "      <td>False</td>\n",
              "      <td>False</td>\n",
              "      <td>False</td>\n",
              "      <td>...</td>\n",
              "      <td>False</td>\n",
              "      <td>False</td>\n",
              "      <td>False</td>\n",
              "      <td>False</td>\n",
              "      <td>False</td>\n",
              "      <td>False</td>\n",
              "      <td>False</td>\n",
              "      <td>False</td>\n",
              "      <td>False</td>\n",
              "      <td>False</td>\n",
              "    </tr>\n",
              "    <tr>\n",
              "      <th>4</th>\n",
              "      <td>False</td>\n",
              "      <td>False</td>\n",
              "      <td>False</td>\n",
              "      <td>False</td>\n",
              "      <td>False</td>\n",
              "      <td>False</td>\n",
              "      <td>False</td>\n",
              "      <td>False</td>\n",
              "      <td>False</td>\n",
              "      <td>False</td>\n",
              "      <td>...</td>\n",
              "      <td>False</td>\n",
              "      <td>False</td>\n",
              "      <td>False</td>\n",
              "      <td>False</td>\n",
              "      <td>False</td>\n",
              "      <td>False</td>\n",
              "      <td>False</td>\n",
              "      <td>False</td>\n",
              "      <td>False</td>\n",
              "      <td>False</td>\n",
              "    </tr>\n",
              "    <tr>\n",
              "      <th>...</th>\n",
              "      <td>...</td>\n",
              "      <td>...</td>\n",
              "      <td>...</td>\n",
              "      <td>...</td>\n",
              "      <td>...</td>\n",
              "      <td>...</td>\n",
              "      <td>...</td>\n",
              "      <td>...</td>\n",
              "      <td>...</td>\n",
              "      <td>...</td>\n",
              "      <td>...</td>\n",
              "      <td>...</td>\n",
              "      <td>...</td>\n",
              "      <td>...</td>\n",
              "      <td>...</td>\n",
              "      <td>...</td>\n",
              "      <td>...</td>\n",
              "      <td>...</td>\n",
              "      <td>...</td>\n",
              "      <td>...</td>\n",
              "      <td>...</td>\n",
              "    </tr>\n",
              "    <tr>\n",
              "      <th>4994</th>\n",
              "      <td>False</td>\n",
              "      <td>False</td>\n",
              "      <td>False</td>\n",
              "      <td>False</td>\n",
              "      <td>False</td>\n",
              "      <td>False</td>\n",
              "      <td>False</td>\n",
              "      <td>False</td>\n",
              "      <td>False</td>\n",
              "      <td>False</td>\n",
              "      <td>...</td>\n",
              "      <td>False</td>\n",
              "      <td>False</td>\n",
              "      <td>False</td>\n",
              "      <td>False</td>\n",
              "      <td>False</td>\n",
              "      <td>False</td>\n",
              "      <td>False</td>\n",
              "      <td>False</td>\n",
              "      <td>False</td>\n",
              "      <td>False</td>\n",
              "    </tr>\n",
              "    <tr>\n",
              "      <th>4995</th>\n",
              "      <td>False</td>\n",
              "      <td>False</td>\n",
              "      <td>False</td>\n",
              "      <td>False</td>\n",
              "      <td>False</td>\n",
              "      <td>False</td>\n",
              "      <td>False</td>\n",
              "      <td>False</td>\n",
              "      <td>False</td>\n",
              "      <td>False</td>\n",
              "      <td>...</td>\n",
              "      <td>False</td>\n",
              "      <td>False</td>\n",
              "      <td>False</td>\n",
              "      <td>False</td>\n",
              "      <td>False</td>\n",
              "      <td>False</td>\n",
              "      <td>False</td>\n",
              "      <td>False</td>\n",
              "      <td>False</td>\n",
              "      <td>False</td>\n",
              "    </tr>\n",
              "    <tr>\n",
              "      <th>4996</th>\n",
              "      <td>False</td>\n",
              "      <td>False</td>\n",
              "      <td>False</td>\n",
              "      <td>False</td>\n",
              "      <td>False</td>\n",
              "      <td>False</td>\n",
              "      <td>False</td>\n",
              "      <td>False</td>\n",
              "      <td>False</td>\n",
              "      <td>False</td>\n",
              "      <td>...</td>\n",
              "      <td>False</td>\n",
              "      <td>False</td>\n",
              "      <td>False</td>\n",
              "      <td>False</td>\n",
              "      <td>False</td>\n",
              "      <td>False</td>\n",
              "      <td>False</td>\n",
              "      <td>False</td>\n",
              "      <td>False</td>\n",
              "      <td>False</td>\n",
              "    </tr>\n",
              "    <tr>\n",
              "      <th>4997</th>\n",
              "      <td>False</td>\n",
              "      <td>False</td>\n",
              "      <td>False</td>\n",
              "      <td>False</td>\n",
              "      <td>False</td>\n",
              "      <td>False</td>\n",
              "      <td>False</td>\n",
              "      <td>False</td>\n",
              "      <td>False</td>\n",
              "      <td>False</td>\n",
              "      <td>...</td>\n",
              "      <td>False</td>\n",
              "      <td>False</td>\n",
              "      <td>False</td>\n",
              "      <td>False</td>\n",
              "      <td>False</td>\n",
              "      <td>False</td>\n",
              "      <td>False</td>\n",
              "      <td>False</td>\n",
              "      <td>False</td>\n",
              "      <td>False</td>\n",
              "    </tr>\n",
              "    <tr>\n",
              "      <th>4998</th>\n",
              "      <td>False</td>\n",
              "      <td>False</td>\n",
              "      <td>False</td>\n",
              "      <td>False</td>\n",
              "      <td>False</td>\n",
              "      <td>False</td>\n",
              "      <td>False</td>\n",
              "      <td>False</td>\n",
              "      <td>False</td>\n",
              "      <td>False</td>\n",
              "      <td>...</td>\n",
              "      <td>False</td>\n",
              "      <td>False</td>\n",
              "      <td>True</td>\n",
              "      <td>True</td>\n",
              "      <td>True</td>\n",
              "      <td>True</td>\n",
              "      <td>True</td>\n",
              "      <td>True</td>\n",
              "      <td>False</td>\n",
              "      <td>False</td>\n",
              "    </tr>\n",
              "  </tbody>\n",
              "</table>\n",
              "<p>4999 rows × 25 columns</p>\n",
              "</div>\n",
              "      <button class=\"colab-df-convert\" onclick=\"convertToInteractive('df-2a4a2aad-298b-4c36-84c1-d018e7a88161')\"\n",
              "              title=\"Convert this dataframe to an interactive table.\"\n",
              "              style=\"display:none;\">\n",
              "        \n",
              "  <svg xmlns=\"http://www.w3.org/2000/svg\" height=\"24px\"viewBox=\"0 0 24 24\"\n",
              "       width=\"24px\">\n",
              "    <path d=\"M0 0h24v24H0V0z\" fill=\"none\"/>\n",
              "    <path d=\"M18.56 5.44l.94 2.06.94-2.06 2.06-.94-2.06-.94-.94-2.06-.94 2.06-2.06.94zm-11 1L8.5 8.5l.94-2.06 2.06-.94-2.06-.94L8.5 2.5l-.94 2.06-2.06.94zm10 10l.94 2.06.94-2.06 2.06-.94-2.06-.94-.94-2.06-.94 2.06-2.06.94z\"/><path d=\"M17.41 7.96l-1.37-1.37c-.4-.4-.92-.59-1.43-.59-.52 0-1.04.2-1.43.59L10.3 9.45l-7.72 7.72c-.78.78-.78 2.05 0 2.83L4 21.41c.39.39.9.59 1.41.59.51 0 1.02-.2 1.41-.59l7.78-7.78 2.81-2.81c.8-.78.8-2.07 0-2.86zM5.41 20L4 18.59l7.72-7.72 1.47 1.35L5.41 20z\"/>\n",
              "  </svg>\n",
              "      </button>\n",
              "      \n",
              "  <style>\n",
              "    .colab-df-container {\n",
              "      display:flex;\n",
              "      flex-wrap:wrap;\n",
              "      gap: 12px;\n",
              "    }\n",
              "\n",
              "    .colab-df-convert {\n",
              "      background-color: #E8F0FE;\n",
              "      border: none;\n",
              "      border-radius: 50%;\n",
              "      cursor: pointer;\n",
              "      display: none;\n",
              "      fill: #1967D2;\n",
              "      height: 32px;\n",
              "      padding: 0 0 0 0;\n",
              "      width: 32px;\n",
              "    }\n",
              "\n",
              "    .colab-df-convert:hover {\n",
              "      background-color: #E2EBFA;\n",
              "      box-shadow: 0px 1px 2px rgba(60, 64, 67, 0.3), 0px 1px 3px 1px rgba(60, 64, 67, 0.15);\n",
              "      fill: #174EA6;\n",
              "    }\n",
              "\n",
              "    [theme=dark] .colab-df-convert {\n",
              "      background-color: #3B4455;\n",
              "      fill: #D2E3FC;\n",
              "    }\n",
              "\n",
              "    [theme=dark] .colab-df-convert:hover {\n",
              "      background-color: #434B5C;\n",
              "      box-shadow: 0px 1px 3px 1px rgba(0, 0, 0, 0.15);\n",
              "      filter: drop-shadow(0px 1px 2px rgba(0, 0, 0, 0.3));\n",
              "      fill: #FFFFFF;\n",
              "    }\n",
              "  </style>\n",
              "\n",
              "      <script>\n",
              "        const buttonEl =\n",
              "          document.querySelector('#df-2a4a2aad-298b-4c36-84c1-d018e7a88161 button.colab-df-convert');\n",
              "        buttonEl.style.display =\n",
              "          google.colab.kernel.accessAllowed ? 'block' : 'none';\n",
              "\n",
              "        async function convertToInteractive(key) {\n",
              "          const element = document.querySelector('#df-2a4a2aad-298b-4c36-84c1-d018e7a88161');\n",
              "          const dataTable =\n",
              "            await google.colab.kernel.invokeFunction('convertToInteractive',\n",
              "                                                     [key], {});\n",
              "          if (!dataTable) return;\n",
              "\n",
              "          const docLinkHtml = 'Like what you see? Visit the ' +\n",
              "            '<a target=\"_blank\" href=https://colab.research.google.com/notebooks/data_table.ipynb>data table notebook</a>'\n",
              "            + ' to learn more about interactive tables.';\n",
              "          element.innerHTML = '';\n",
              "          dataTable['output_type'] = 'display_data';\n",
              "          await google.colab.output.renderOutput(dataTable, element);\n",
              "          const docLink = document.createElement('div');\n",
              "          docLink.innerHTML = docLinkHtml;\n",
              "          element.appendChild(docLink);\n",
              "        }\n",
              "      </script>\n",
              "    </div>\n",
              "  </div>\n",
              "  "
            ]
          },
          "metadata": {},
          "execution_count": 11
        }
      ]
    },
    {
      "cell_type": "code",
      "source": [
        "#No. of null values in eac columns\n",
        "data.isnull().sum()"
      ],
      "metadata": {
        "colab": {
          "base_uri": "https://localhost:8080/"
        },
        "id": "molsc-CQAej0",
        "outputId": "a0daf111-7322-4653-f382-44f30848442c"
      },
      "execution_count": null,
      "outputs": [
        {
          "output_type": "execute_result",
          "data": {
            "text/plain": [
              "Year                          0\n",
              "Make                          0\n",
              "Model                         0\n",
              "Condition                     0\n",
              "Price                         0\n",
              "Consumer_Rating               0\n",
              "Consumer_Review_#             0\n",
              "Exterior_Color               11\n",
              "Interior_Color               11\n",
              "Drivetrain                   11\n",
              "MPG                        1485\n",
              "Fuel_Type                    11\n",
              "Transmission                 11\n",
              "Engine                       11\n",
              "VIN                          11\n",
              "Stock_#                      11\n",
              "Mileage                      11\n",
              "Comfort_Rating              552\n",
              "Interior_Design_Rating      552\n",
              "Performance_Rating          552\n",
              "Value_For_Money_Rating      552\n",
              "Exterior_Styling_Rating     552\n",
              "Reliability_Rating          552\n",
              "State                        73\n",
              "Seller_Type                  73\n",
              "dtype: int64"
            ]
          },
          "metadata": {},
          "execution_count": 12
        }
      ]
    },
    {
      "cell_type": "markdown",
      "source": [
        "Dealing with NAN Values"
      ],
      "metadata": {
        "id": "8L-8_Xbx1MQK"
      }
    },
    {
      "cell_type": "code",
      "source": [
        "# reomove null values\n",
        "# drooping rows (not a good method to analyse a data)\n",
        "#drop columns\n",
        "# fill with average value\n",
        "data['MPG'].unique()"
      ],
      "metadata": {
        "colab": {
          "base_uri": "https://localhost:8080/"
        },
        "id": "Th2m1cZUAqpX",
        "outputId": "f31ab71b-bb2e-41c4-8b69-0b267529a817"
      },
      "execution_count": null,
      "outputs": [
        {
          "output_type": "execute_result",
          "data": {
            "text/plain": [
              "array([nan, '19–25', '19–26', '18–24', '19–24', '29–35', '25–30', '27–32',\n",
              "       '40–34', '43–36', '29–37', '22–32', '44–41', '19–28', '20–27',\n",
              "       '26–31', '27–37', '28–34', '26–32', '30–37', '18–23', '33–42',\n",
              "       '27–36', '22–28', '28–39', '30–38', '48–47', '22–30', '51–45',\n",
              "       '26–36', '27–31', '18–26', '31–40', '25–36', '40–35', '20–26',\n",
              "       '18–25', '26–35', '55–49', '21–30', '20–25', '19–27', '31–41',\n",
              "       '28–37', '0–0', '27–34', '30–39', '20–29', '16–22', '23–29',\n",
              "       '32–42', '31–42', '25–31', '31–38', '17–24', '30–41', '24–34',\n",
              "       '49–47', '22–31', '47–47', '21–31', '15–20', '21–27', '32–38',\n",
              "       '17–25', '26–34', '23–34', '46–41', '23–31', '21–28', '21–24',\n",
              "       '26–33', '18–27', '22–26', '27–33', '29–38', '28–38', '31–36',\n",
              "       '21–34', '48–48', '0–26', '21–29', '31–39', '22–27', '20–30',\n",
              "       '28–0', '46–51', '19–29', '28–35', '30–40', '25–33', '44–44',\n",
              "       '28–36', '36–39', '24–33', '15–21', '32–37', '23–27', '8–34.6',\n",
              "       '16–23', '50–45', '29–36', '30–36', '24–31', '44–47', '21–26',\n",
              "       '28–40', '40–43', '23–32', '22–33', '33–40', '19–0', '17–22',\n",
              "       '31–31', '17–23', '33–41', '16–20', '20–28', '24–36', '20–27.0',\n",
              "       '33–33', '41–44', '40–45', '31–37', '29–33', '23–30'], dtype=object)"
            ]
          },
          "metadata": {},
          "execution_count": 13
        }
      ]
    },
    {
      "cell_type": "code",
      "source": [
        "data['MPG'].value_counts()"
      ],
      "metadata": {
        "colab": {
          "base_uri": "https://localhost:8080/"
        },
        "id": "b1I2YFTrBzFV",
        "outputId": "936af4e5-f36d-4500-c7f9-db62db326dd9"
      },
      "execution_count": null,
      "outputs": [
        {
          "output_type": "execute_result",
          "data": {
            "text/plain": [
              "19–26    540\n",
              "19–24    321\n",
              "29–35    263\n",
              "19–28    256\n",
              "19–25    134\n",
              "        ... \n",
              "46–41      1\n",
              "0–26       1\n",
              "25–33      1\n",
              "21–29      1\n",
              "23–30      1\n",
              "Name: MPG, Length: 125, dtype: int64"
            ]
          },
          "metadata": {},
          "execution_count": 14
        }
      ]
    },
    {
      "cell_type": "code",
      "source": [
        "data['Comfort_Rating'].unique()"
      ],
      "metadata": {
        "colab": {
          "base_uri": "https://localhost:8080/"
        },
        "id": "s_C-hp2uB-8J",
        "outputId": "d5457813-9a0c-48f9-f262-c0ea5e0d6d7b"
      },
      "execution_count": null,
      "outputs": [
        {
          "output_type": "execute_result",
          "data": {
            "text/plain": [
              "array([5. , nan, 4. , 4.6, 4.9, 3.8, 4.2, 4.8, 4.3, 4.7, 4.5, 4.1, 4.4,\n",
              "       3.9])"
            ]
          },
          "metadata": {},
          "execution_count": 15
        }
      ]
    },
    {
      "cell_type": "code",
      "source": [
        "CR = np.array([5.,  4. , 4.6, 4.9, 3.8, 4.2, 4.8, 4.3, 4.7, 4.5, 4.1, 4.4,\n",
        "       3.9])"
      ],
      "metadata": {
        "id": "CX6dLygx4HRZ"
      },
      "execution_count": null,
      "outputs": []
    },
    {
      "cell_type": "code",
      "source": [
        "CR.mean()"
      ],
      "metadata": {
        "colab": {
          "base_uri": "https://localhost:8080/"
        },
        "id": "tr0UKA0-4HMR",
        "outputId": "98ac154e-a0f0-4322-cd21-357786998e44"
      },
      "execution_count": null,
      "outputs": [
        {
          "output_type": "execute_result",
          "data": {
            "text/plain": [
              "4.4"
            ]
          },
          "metadata": {},
          "execution_count": 17
        }
      ]
    },
    {
      "cell_type": "code",
      "source": [
        "#filling NAN value with mean of the column\n",
        "data['Comfort_Rating'].fillna(4.4, inplace=True)"
      ],
      "metadata": {
        "id": "eSr9uhFJ4HHS"
      },
      "execution_count": null,
      "outputs": []
    },
    {
      "cell_type": "code",
      "source": [
        "data.isnull().sum()"
      ],
      "metadata": {
        "colab": {
          "base_uri": "https://localhost:8080/"
        },
        "id": "I-U64gHA4HCi",
        "outputId": "c0265113-1667-4858-ad0e-0544dc9c404c"
      },
      "execution_count": null,
      "outputs": [
        {
          "output_type": "execute_result",
          "data": {
            "text/plain": [
              "Year                          0\n",
              "Make                          0\n",
              "Model                         0\n",
              "Condition                     0\n",
              "Price                         0\n",
              "Consumer_Rating               0\n",
              "Consumer_Review_#             0\n",
              "Exterior_Color               11\n",
              "Interior_Color               11\n",
              "Drivetrain                   11\n",
              "MPG                        1485\n",
              "Fuel_Type                    11\n",
              "Transmission                 11\n",
              "Engine                       11\n",
              "VIN                          11\n",
              "Stock_#                      11\n",
              "Mileage                      11\n",
              "Comfort_Rating                0\n",
              "Interior_Design_Rating      552\n",
              "Performance_Rating          552\n",
              "Value_For_Money_Rating      552\n",
              "Exterior_Styling_Rating     552\n",
              "Reliability_Rating          552\n",
              "State                        73\n",
              "Seller_Type                  73\n",
              "dtype: int64"
            ]
          },
          "metadata": {},
          "execution_count": 19
        }
      ]
    },
    {
      "cell_type": "code",
      "source": [
        "data['Interior_Design_Rating'].unique()"
      ],
      "metadata": {
        "colab": {
          "base_uri": "https://localhost:8080/"
        },
        "id": "J0n32EZO4G96",
        "outputId": "bbcc2050-8ea9-4c69-d930-aba432acad84"
      },
      "execution_count": null,
      "outputs": [
        {
          "output_type": "execute_result",
          "data": {
            "text/plain": [
              "array([4.8, 3. , 5. , nan, 4.9, 3.2, 4. , 4.7, 4.3, 4.5, 4.6, 4.2, 4.4,\n",
              "       4.1])"
            ]
          },
          "metadata": {},
          "execution_count": 20
        }
      ]
    },
    {
      "cell_type": "code",
      "source": [
        "b = np.array([4.8, 3. , 5. ,  4.9, 3.2, 4. , 4.7, 4.3, 4.5, 4.6, 4.2, 4.4,\n",
        "       4.1])"
      ],
      "metadata": {
        "id": "Hs_HxdBy4G5w"
      },
      "execution_count": null,
      "outputs": []
    },
    {
      "cell_type": "code",
      "source": [
        "b.mean()"
      ],
      "metadata": {
        "colab": {
          "base_uri": "https://localhost:8080/"
        },
        "id": "RrsIqe7c4G16",
        "outputId": "cc3fedd4-80f0-43c8-d830-2d7aeb00c937"
      },
      "execution_count": null,
      "outputs": [
        {
          "output_type": "execute_result",
          "data": {
            "text/plain": [
              "4.2846153846153845"
            ]
          },
          "metadata": {},
          "execution_count": 22
        }
      ]
    },
    {
      "cell_type": "code",
      "source": [
        "data['Interior_Design_Rating'].fillna(4.3, inplace=True)"
      ],
      "metadata": {
        "id": "cLOJLwYF4Gxn"
      },
      "execution_count": null,
      "outputs": []
    },
    {
      "cell_type": "code",
      "source": [
        "data['Performance_Rating'].unique()"
      ],
      "metadata": {
        "colab": {
          "base_uri": "https://localhost:8080/"
        },
        "id": "nrAAae664Gs-",
        "outputId": "91bf1694-2881-475d-e704-9928a88c8853"
      },
      "execution_count": null,
      "outputs": [
        {
          "output_type": "execute_result",
          "data": {
            "text/plain": [
              "array([4.8, 4. , 5. , nan, 4.9, 4.4, 4.7, 3.6, 4.5, 4.3, 4.6, 4.2, 4.1,\n",
              "       3.9, 3.8, 3.7])"
            ]
          },
          "metadata": {},
          "execution_count": 24
        }
      ]
    },
    {
      "cell_type": "code",
      "source": [
        "c = np.array([4.8, 4. , 5. ,  4.9, 4.4, 4.7, 3.6, 4.5, 4.3, 4.6, 4.2, 4.1,\n",
        "       3.9, 3.8, 3.7])"
      ],
      "metadata": {
        "id": "9urXawYs4Gnj"
      },
      "execution_count": null,
      "outputs": []
    },
    {
      "cell_type": "code",
      "source": [
        "c.mean()"
      ],
      "metadata": {
        "colab": {
          "base_uri": "https://localhost:8080/"
        },
        "id": "RCR6ullU-qI6",
        "outputId": "dfe00434-e601-4492-b1d0-e8bf6c9621a3"
      },
      "execution_count": null,
      "outputs": [
        {
          "output_type": "execute_result",
          "data": {
            "text/plain": [
              "4.3"
            ]
          },
          "metadata": {},
          "execution_count": 26
        }
      ]
    },
    {
      "cell_type": "code",
      "source": [
        "data['Performance_Rating'].fillna(4.3, inplace=True)"
      ],
      "metadata": {
        "id": "jSxIbLtS-sMm"
      },
      "execution_count": null,
      "outputs": []
    },
    {
      "cell_type": "code",
      "source": [
        "data['Value_For_Money_Rating'].unique()"
      ],
      "metadata": {
        "colab": {
          "base_uri": "https://localhost:8080/"
        },
        "id": "vjxJgmAi-2g1",
        "outputId": "35e21fab-0d47-452e-e819-2cb508ed95b7"
      },
      "execution_count": null,
      "outputs": [
        {
          "output_type": "execute_result",
          "data": {
            "text/plain": [
              "array([4.2, 4. , 5. , nan, 4.3, 4.6, 4.8, 4.9, 3.6, 4.7, 4.5, 4.4, 4.1,\n",
              "       3.9, 3.8])"
            ]
          },
          "metadata": {},
          "execution_count": 28
        }
      ]
    },
    {
      "cell_type": "code",
      "source": [
        "d = np.array([4.2, 4. , 5. , 4.3, 4.6, 4.8, 4.9, 3.6, 4.7, 4.5, 4.4, 4.1,\n",
        "       3.9, 3.8])"
      ],
      "metadata": {
        "id": "myWEPwyl_MES"
      },
      "execution_count": null,
      "outputs": []
    },
    {
      "cell_type": "code",
      "source": [
        "d.mean()"
      ],
      "metadata": {
        "colab": {
          "base_uri": "https://localhost:8080/"
        },
        "id": "IBm2KzAq_WU-",
        "outputId": "5a8d647f-f4d5-44e2-dffc-e97be7f48a15"
      },
      "execution_count": null,
      "outputs": [
        {
          "output_type": "execute_result",
          "data": {
            "text/plain": [
              "4.3428571428571425"
            ]
          },
          "metadata": {},
          "execution_count": 30
        }
      ]
    },
    {
      "cell_type": "code",
      "source": [
        "data['Value_For_Money_Rating'].fillna(4.4, inplace=True)"
      ],
      "metadata": {
        "id": "muLDySyl_YSa"
      },
      "execution_count": null,
      "outputs": []
    },
    {
      "cell_type": "code",
      "source": [
        "data['Exterior_Styling_Rating'].unique()"
      ],
      "metadata": {
        "colab": {
          "base_uri": "https://localhost:8080/"
        },
        "id": "DZiK-D2aauQa",
        "outputId": "c8368399-ba64-4c93-dc8b-30f62f230c0c"
      },
      "execution_count": null,
      "outputs": [
        {
          "output_type": "execute_result",
          "data": {
            "text/plain": [
              "array([5. , 4. , nan, 4.7, 4.9, 4.6, 4.2, 4.5, 4.8, 4.3, 4.4, 4.1, 3.9])"
            ]
          },
          "metadata": {},
          "execution_count": 32
        }
      ]
    },
    {
      "cell_type": "code",
      "source": [
        "e = np.array([5. , 4. ,  4.7, 4.9, 4.6, 4.2, 4.5, 4.8, 4.3, 4.4, 4.1, 3.9])"
      ],
      "metadata": {
        "id": "JPCgnyfZauMn"
      },
      "execution_count": null,
      "outputs": []
    },
    {
      "cell_type": "code",
      "source": [
        "e.mean()"
      ],
      "metadata": {
        "colab": {
          "base_uri": "https://localhost:8080/"
        },
        "id": "WJhkpGxCauAK",
        "outputId": "c769e45e-263b-4cf2-e7c0-d6c7c27646e1"
      },
      "execution_count": null,
      "outputs": [
        {
          "output_type": "execute_result",
          "data": {
            "text/plain": [
              "4.45"
            ]
          },
          "metadata": {},
          "execution_count": 34
        }
      ]
    },
    {
      "cell_type": "code",
      "source": [
        "data['Exterior_Styling_Rating'].fillna(4.45, inplace=True)"
      ],
      "metadata": {
        "id": "vfn7j1L6at9b"
      },
      "execution_count": null,
      "outputs": []
    },
    {
      "cell_type": "code",
      "source": [
        "data['Reliability_Rating'].unique()"
      ],
      "metadata": {
        "colab": {
          "base_uri": "https://localhost:8080/"
        },
        "id": "KH52Jltuat56",
        "outputId": "6ce79084-61e0-465d-bf08-6c21ef8bf855"
      },
      "execution_count": null,
      "outputs": [
        {
          "output_type": "execute_result",
          "data": {
            "text/plain": [
              "array([5. , nan, 4.7, 4.9, 4.2, 4.8, 4.4, 4.6, 4.5, 4.3, 4.1, 4. ])"
            ]
          },
          "metadata": {},
          "execution_count": 36
        }
      ]
    },
    {
      "cell_type": "code",
      "source": [
        "f = np.array([5. , 4.7, 4.9, 4.2, 4.8, 4.4, 4.6, 4.5, 4.3, 4.1, 4. ])\n"
      ],
      "metadata": {
        "id": "kd8l8UdVat2I"
      },
      "execution_count": null,
      "outputs": []
    },
    {
      "cell_type": "code",
      "source": [
        "f.mean()"
      ],
      "metadata": {
        "colab": {
          "base_uri": "https://localhost:8080/"
        },
        "id": "_jLjFspsatyn",
        "outputId": "9be66b2b-c741-4a90-ae57-0d31d3a05979"
      },
      "execution_count": null,
      "outputs": [
        {
          "output_type": "execute_result",
          "data": {
            "text/plain": [
              "4.499999999999999"
            ]
          },
          "metadata": {},
          "execution_count": 40
        }
      ]
    },
    {
      "cell_type": "code",
      "source": [
        "data['Exterior_Styling_Rating'].fillna(4.5, inplace=True)"
      ],
      "metadata": {
        "id": "Ny1FX7JsatvN"
      },
      "execution_count": null,
      "outputs": []
    },
    {
      "cell_type": "code",
      "source": [
        "data.drop('MPG', axis=1, inplace=True)"
      ],
      "metadata": {
        "id": "eJFC3xJyatsB"
      },
      "execution_count": null,
      "outputs": []
    },
    {
      "cell_type": "code",
      "source": [
        "\n",
        "data['Reliability_Rating'].unique()\n"
      ],
      "metadata": {
        "colab": {
          "base_uri": "https://localhost:8080/"
        },
        "id": "H3Rpu51fatoc",
        "outputId": "85af1624-6678-4924-9699-cd6df23fc0fc"
      },
      "execution_count": null,
      "outputs": [
        {
          "output_type": "execute_result",
          "data": {
            "text/plain": [
              "array([5. , nan, 4.7, 4.9, 4.2, 4.8, 4.4, 4.6, 4.5, 4.3, 4.1, 4. ])"
            ]
          },
          "metadata": {},
          "execution_count": 43
        }
      ]
    },
    {
      "cell_type": "code",
      "source": [
        "m = np.array([5. , 4.7, 4.9, 4.2, 4.8, 4.4, 4.6, 4.5, 4.3, 4.1, 4. ])"
      ],
      "metadata": {
        "id": "5eAXBk0gatlE"
      },
      "execution_count": null,
      "outputs": []
    },
    {
      "cell_type": "code",
      "source": [
        "m.mean()"
      ],
      "metadata": {
        "colab": {
          "base_uri": "https://localhost:8080/"
        },
        "id": "wXaQGZ_Tatgw",
        "outputId": "81229b20-999f-40ff-c589-3c022dcb902e"
      },
      "execution_count": null,
      "outputs": [
        {
          "output_type": "execute_result",
          "data": {
            "text/plain": [
              "4.499999999999999"
            ]
          },
          "metadata": {},
          "execution_count": 45
        }
      ]
    },
    {
      "cell_type": "code",
      "source": [
        "data['Reliability_Rating'].fillna(4.5, inplace=True)"
      ],
      "metadata": {
        "id": "e8ZTKTKK_lCi"
      },
      "execution_count": null,
      "outputs": []
    },
    {
      "cell_type": "code",
      "source": [
        "data.isnull().sum()"
      ],
      "metadata": {
        "colab": {
          "base_uri": "https://localhost:8080/"
        },
        "id": "1PrjIVZta60v",
        "outputId": "0f4e957f-bc0b-4baa-8788-5073f4c8c6ff"
      },
      "execution_count": null,
      "outputs": [
        {
          "output_type": "execute_result",
          "data": {
            "text/plain": [
              "Year                        0\n",
              "Make                        0\n",
              "Model                       0\n",
              "Condition                   0\n",
              "Price                       0\n",
              "Consumer_Rating             0\n",
              "Consumer_Review_#           0\n",
              "Exterior_Color             11\n",
              "Interior_Color             11\n",
              "Drivetrain                 11\n",
              "Fuel_Type                  11\n",
              "Transmission               11\n",
              "Engine                     11\n",
              "VIN                        11\n",
              "Stock_#                    11\n",
              "Mileage                    11\n",
              "Comfort_Rating              0\n",
              "Interior_Design_Rating      0\n",
              "Performance_Rating          0\n",
              "Value_For_Money_Rating      0\n",
              "Exterior_Styling_Rating     0\n",
              "Reliability_Rating          0\n",
              "State                      73\n",
              "Seller_Type                73\n",
              "dtype: int64"
            ]
          },
          "metadata": {},
          "execution_count": 47
        }
      ]
    },
    {
      "cell_type": "code",
      "source": [
        "data['Seller_Type']"
      ],
      "metadata": {
        "colab": {
          "base_uri": "https://localhost:8080/"
        },
        "id": "EpzmI2sGa6w4",
        "outputId": "7ef2beca-96f8-4b9f-ad10-39e22c73321f"
      },
      "execution_count": null,
      "outputs": [
        {
          "output_type": "execute_result",
          "data": {
            "text/plain": [
              "0       Dealer\n",
              "1       Dealer\n",
              "2       Dealer\n",
              "3       Dealer\n",
              "4       Dealer\n",
              "         ...  \n",
              "4994    Dealer\n",
              "4995    Dealer\n",
              "4996    Dealer\n",
              "4997    Dealer\n",
              "4998    Dealer\n",
              "Name: Seller_Type, Length: 4999, dtype: object"
            ]
          },
          "metadata": {},
          "execution_count": 48
        }
      ]
    },
    {
      "cell_type": "code",
      "source": [
        "data['Seller_Type'].fillna('Dealer', inplace=True)"
      ],
      "metadata": {
        "id": "bNJbQznxa6sP"
      },
      "execution_count": null,
      "outputs": []
    },
    {
      "cell_type": "code",
      "source": [
        "data['State']"
      ],
      "metadata": {
        "colab": {
          "base_uri": "https://localhost:8080/"
        },
        "id": "lUqUpNaXa6kD",
        "outputId": "96b354e0-7b38-47a0-fbcd-280171e3b0a8"
      },
      "execution_count": null,
      "outputs": [
        {
          "output_type": "execute_result",
          "data": {
            "text/plain": [
              "0       CA\n",
              "1       CA\n",
              "2       CA\n",
              "3       CA\n",
              "4       CA\n",
              "        ..\n",
              "4994    NY\n",
              "4995    NY\n",
              "4996    CT\n",
              "4997    MA\n",
              "4998    ME\n",
              "Name: State, Length: 4999, dtype: object"
            ]
          },
          "metadata": {},
          "execution_count": 50
        }
      ]
    },
    {
      "cell_type": "code",
      "source": [
        "data.drop('State', axis=1, inplace=True)"
      ],
      "metadata": {
        "id": "3RVc0tlWa6fg"
      },
      "execution_count": null,
      "outputs": []
    },
    {
      "cell_type": "code",
      "source": [
        "data['Fuel_Type']"
      ],
      "metadata": {
        "colab": {
          "base_uri": "https://localhost:8080/"
        },
        "id": "zjeJKKbNa6Yo",
        "outputId": "a3d6e634-b961-47e8-c659-35133e3bc07e"
      },
      "execution_count": null,
      "outputs": [
        {
          "output_type": "execute_result",
          "data": {
            "text/plain": [
              "0       Gasoline\n",
              "1         Hybrid\n",
              "2         Hybrid\n",
              "3       Gasoline\n",
              "4         Hybrid\n",
              "          ...   \n",
              "4994    Gasoline\n",
              "4995    Gasoline\n",
              "4996    Gasoline\n",
              "4997    Gasoline\n",
              "4998    Gasoline\n",
              "Name: Fuel_Type, Length: 4999, dtype: object"
            ]
          },
          "metadata": {},
          "execution_count": 52
        }
      ]
    },
    {
      "cell_type": "code",
      "source": [
        "data.isnull().sum()"
      ],
      "metadata": {
        "colab": {
          "base_uri": "https://localhost:8080/"
        },
        "id": "tDvW4Vw2iwpE",
        "outputId": "b748851c-5803-4fc3-b3b2-615e3e3fe916"
      },
      "execution_count": null,
      "outputs": [
        {
          "output_type": "execute_result",
          "data": {
            "text/plain": [
              "Year                        0\n",
              "Make                        0\n",
              "Model                       0\n",
              "Condition                   0\n",
              "Price                       0\n",
              "Consumer_Rating             0\n",
              "Consumer_Review_#           0\n",
              "Exterior_Color             11\n",
              "Interior_Color             11\n",
              "Drivetrain                 11\n",
              "Fuel_Type                  11\n",
              "Transmission               11\n",
              "Engine                     11\n",
              "VIN                        11\n",
              "Stock_#                    11\n",
              "Mileage                    11\n",
              "Comfort_Rating              0\n",
              "Interior_Design_Rating      0\n",
              "Performance_Rating          0\n",
              "Value_For_Money_Rating      0\n",
              "Exterior_Styling_Rating     0\n",
              "Reliability_Rating          0\n",
              "Seller_Type                 0\n",
              "dtype: int64"
            ]
          },
          "metadata": {},
          "execution_count": 53
        }
      ]
    },
    {
      "cell_type": "code",
      "source": [
        "data['Mileage']"
      ],
      "metadata": {
        "colab": {
          "base_uri": "https://localhost:8080/"
        },
        "id": "Um2HYi32kxtO",
        "outputId": "c5961eb5-e706-4bad-e7cb-e744c624e9e2"
      },
      "execution_count": null,
      "outputs": [
        {
          "output_type": "execute_result",
          "data": {
            "text/plain": [
              "0          10\n",
              "1           –\n",
              "2           1\n",
              "3           5\n",
              "4           5\n",
              "        ...  \n",
              "4994    64719\n",
              "4995    40902\n",
              "4996    82906\n",
              "4997    88050\n",
              "4998        0\n",
              "Name: Mileage, Length: 4999, dtype: object"
            ]
          },
          "metadata": {},
          "execution_count": 54
        }
      ]
    },
    {
      "cell_type": "code",
      "source": [
        "data['Mileage'] .unique()"
      ],
      "metadata": {
        "colab": {
          "base_uri": "https://localhost:8080/"
        },
        "id": "DGVxLT3gk4oo",
        "outputId": "d8e367dd-6a8d-4166-a9d8-b30e4af62f07"
      },
      "execution_count": null,
      "outputs": [
        {
          "output_type": "execute_result",
          "data": {
            "text/plain": [
              "array(['10', '–', '1', ..., '40902', '82906', '88050'], dtype=object)"
            ]
          },
          "metadata": {},
          "execution_count": 55
        }
      ]
    },
    {
      "cell_type": "code",
      "source": [
        "n = np.array(['10',  '1', ..., '40902', '82906', '88050'], dtype=object)"
      ],
      "metadata": {
        "id": "_xWkKB2lk4l0"
      },
      "execution_count": null,
      "outputs": []
    },
    {
      "cell_type": "code",
      "source": [
        "data['Stock_#']"
      ],
      "metadata": {
        "colab": {
          "base_uri": "https://localhost:8080/"
        },
        "id": "SFgF0oTUk4ht",
        "outputId": "91e061b8-e4a5-4a3a-d8ed-cae75e5a81ea"
      },
      "execution_count": null,
      "outputs": [
        {
          "output_type": "execute_result",
          "data": {
            "text/plain": [
              "0        00830164\n",
              "1         6402953\n",
              "2        PH704805\n",
              "3        5700429B\n",
              "4         5705954\n",
              "          ...    \n",
              "4994       U20361\n",
              "4995        36117\n",
              "4996    NA073727A\n",
              "4997     22941503\n",
              "4998      H000466\n",
              "Name: Stock_#, Length: 4999, dtype: object"
            ]
          },
          "metadata": {},
          "execution_count": 57
        }
      ]
    },
    {
      "cell_type": "code",
      "source": [
        "data['Transmission']"
      ],
      "metadata": {
        "colab": {
          "base_uri": "https://localhost:8080/"
        },
        "id": "UxDc-MLqk4em",
        "outputId": "c27ed200-d988-4fa8-a8fc-02f6ec8088e0"
      },
      "execution_count": null,
      "outputs": [
        {
          "output_type": "execute_result",
          "data": {
            "text/plain": [
              "0                Automatic\n",
              "1            Automatic CVT\n",
              "2            Automatic CVT\n",
              "3        9-Speed Automatic\n",
              "4            Automatic CVT\n",
              "               ...        \n",
              "4994         Automatic CVT\n",
              "4995         Automatic CVT\n",
              "4996        6-Speed Manual\n",
              "4997     5-Speed Automatic\n",
              "4998    10-Speed Automatic\n",
              "Name: Transmission, Length: 4999, dtype: object"
            ]
          },
          "metadata": {},
          "execution_count": 58
        }
      ]
    },
    {
      "cell_type": "code",
      "source": [
        "data['Transmission'].fillna('Automatic CVT', inplace=True)"
      ],
      "metadata": {
        "id": "x0gZDOE0k4by"
      },
      "execution_count": null,
      "outputs": []
    },
    {
      "cell_type": "code",
      "source": [
        "from sklearn.preprocessing import LabelEncoder\n",
        "le = LabelEncoder()"
      ],
      "metadata": {
        "id": "WyEbookQk4Y5"
      },
      "execution_count": null,
      "outputs": []
    },
    {
      "cell_type": "code",
      "source": [
        "data['Transmission'] = le.fit_transform(data['Transmission'])"
      ],
      "metadata": {
        "id": "VnE2Jt9ek4V-"
      },
      "execution_count": null,
      "outputs": []
    },
    {
      "cell_type": "code",
      "source": [
        "data['Drivetrain'].unique()"
      ],
      "metadata": {
        "colab": {
          "base_uri": "https://localhost:8080/"
        },
        "id": "wtrW4cadk4TH",
        "outputId": "15248dd3-efb2-4692-f0d5-3145bf73eeb1"
      },
      "execution_count": null,
      "outputs": [
        {
          "output_type": "execute_result",
          "data": {
            "text/plain": [
              "array(['All-wheel Drive', 'FWD', 'Front-wheel Drive', 'AWD', nan,\n",
              "       'Rear-wheel Drive', '–', 'Four-wheel Drive'], dtype=object)"
            ]
          },
          "metadata": {},
          "execution_count": 62
        }
      ]
    },
    {
      "cell_type": "code",
      "source": [
        "data['Drivetrain'].fillna('Front-wheel Drive', inplace=True)"
      ],
      "metadata": {
        "id": "dhuTZorik4Qp"
      },
      "execution_count": null,
      "outputs": []
    },
    {
      "cell_type": "code",
      "source": [
        "data.drop(['Engine', 'VIN', 'Stock_#', 'Mileage'], axis=1, inplace=True)"
      ],
      "metadata": {
        "id": "s9I0B_Exk4Nd"
      },
      "execution_count": null,
      "outputs": []
    },
    {
      "cell_type": "code",
      "source": [
        "data.isnull().sum()\n"
      ],
      "metadata": {
        "colab": {
          "base_uri": "https://localhost:8080/"
        },
        "id": "HuCXmpWysdEQ",
        "outputId": "99bd40d7-6401-42cd-f76e-1c38d03be0ca"
      },
      "execution_count": null,
      "outputs": [
        {
          "output_type": "execute_result",
          "data": {
            "text/plain": [
              "Year                        0\n",
              "Make                        0\n",
              "Model                       0\n",
              "Condition                   0\n",
              "Price                       0\n",
              "Consumer_Rating             0\n",
              "Consumer_Review_#           0\n",
              "Exterior_Color             11\n",
              "Interior_Color             11\n",
              "Drivetrain                  0\n",
              "Fuel_Type                  11\n",
              "Transmission                0\n",
              "Comfort_Rating              0\n",
              "Interior_Design_Rating      0\n",
              "Performance_Rating          0\n",
              "Value_For_Money_Rating      0\n",
              "Exterior_Styling_Rating     0\n",
              "Reliability_Rating          0\n",
              "Seller_Type                 0\n",
              "dtype: int64"
            ]
          },
          "metadata": {},
          "execution_count": 65
        }
      ]
    },
    {
      "cell_type": "code",
      "source": [
        "data.drop(['Fuel_Type'], axis=1, inplace=True)"
      ],
      "metadata": {
        "id": "Fz-EnnUDQoqJ"
      },
      "execution_count": null,
      "outputs": []
    },
    {
      "cell_type": "code",
      "source": [
        "#No NAN value, cleansed data\n",
        "missing_values = data.isnull().sum()\n",
        "print(\"Number of missing values in the condition column:\", missing_values)"
      ],
      "metadata": {
        "colab": {
          "base_uri": "https://localhost:8080/"
        },
        "id": "tqQAGD89vKJL",
        "outputId": "54ecbc7f-54f3-48b1-eb77-ddf9b2a7a680"
      },
      "execution_count": null,
      "outputs": [
        {
          "output_type": "stream",
          "name": "stdout",
          "text": [
            "Number of missing values in the condition column: Year                        0\n",
            "Make                        0\n",
            "Model                       0\n",
            "Condition                   0\n",
            "Price                       0\n",
            "Consumer_Rating             0\n",
            "Consumer_Review_#           0\n",
            "Exterior_Color             11\n",
            "Interior_Color             11\n",
            "Drivetrain                  0\n",
            "Transmission                0\n",
            "Comfort_Rating              0\n",
            "Interior_Design_Rating      0\n",
            "Performance_Rating          0\n",
            "Value_For_Money_Rating      0\n",
            "Exterior_Styling_Rating     0\n",
            "Reliability_Rating          0\n",
            "Seller_Type                 0\n",
            "dtype: int64\n"
          ]
        }
      ]
    },
    {
      "cell_type": "markdown",
      "source": [
        "#1) Distribution of car conditions in the dataset"
      ],
      "metadata": {
        "id": "Ohji0rkp1nyE"
      }
    },
    {
      "cell_type": "code",
      "source": [
        "\n",
        "condition_counts = data['Condition'].value_counts()\n",
        "print(condition_counts)"
      ],
      "metadata": {
        "colab": {
          "base_uri": "https://localhost:8080/"
        },
        "id": "zotigHdL25ZD",
        "outputId": "30281390-201d-4986-d3a1-d333ab7825a7"
      },
      "execution_count": null,
      "outputs": [
        {
          "output_type": "stream",
          "name": "stdout",
          "text": [
            "New                2697\n",
            "Used               2022\n",
            "Honda Certified     280\n",
            "Name: Condition, dtype: int64\n"
          ]
        }
      ]
    },
    {
      "cell_type": "code",
      "source": [
        "condition_counts.plot(kind='bar')\n",
        "plt.xlabel('Condition')\n",
        "plt.ylabel('Count')\n",
        "plt.title('Distribution of Car Conditions')\n",
        "plt.show()"
      ],
      "metadata": {
        "colab": {
          "base_uri": "https://localhost:8080/",
          "height": 567
        },
        "id": "2zg3aWj525FW",
        "outputId": "8a1d0919-2ba9-4234-9baf-691f7855d968"
      },
      "execution_count": null,
      "outputs": [
        {
          "output_type": "display_data",
          "data": {
            "text/plain": [
              "<Figure size 640x480 with 1 Axes>"
            ],
            "image/png": "[encoded data removed]"
          },
          "metadata": {}
        }
      ]
    },
    {
      "cell_type": "markdown",
      "source": [],
      "metadata": {
        "id": "JigDwJTa9Sak"
      }
    },
    {
      "cell_type": "markdown",
      "source": [
        "New                2696;\n",
        "Used               2022;\n",
        "Honda Certified     280: there are 280 cars whose conditions are not clearly given."
      ],
      "metadata": {
        "id": "9scYK87N9YKd"
      }
    },
    {
      "cell_type": "markdown",
      "source": [
        "#1.A) Classification of Cars in Different Categories using Rating Parameters"
      ],
      "metadata": {
        "id": "ej2XVh_n-NFq"
      }
    },
    {
      "cell_type": "code",
      "source": [
        "# Create a function to classify the cars\n",
        "# Define thresholds for each rating category\n",
        "excellent_threshold = 4.8\n",
        "good_threshold = 4.2\n",
        "fair_threshold = 4\n",
        "\n",
        "def classify_car(row):\n",
        "    if all(row >= excellent_threshold):\n",
        "        return 'Excellent'\n",
        "    elif all(row >= good_threshold):\n",
        "        return 'Good'\n",
        "    elif all(row >= fair_threshold):\n",
        "        return 'Fair'\n",
        "    else:\n",
        "        return 'Bad'\n",
        "\n",
        "# Apply the classification function to create a new column\n",
        "data['Classification'] = data[['Reliability_Rating', 'Exterior_Styling_Rating', 'Value_For_Money_Rating',\n",
        "                               'Performance_Rating', 'Interior_Design_Rating', 'Comfort_Rating']].apply(classify_car, axis=1)\n",
        "\n",
        "# Count the number of cars in each classification category\n",
        "car_counts = data['Classification'].value_counts()\n",
        "\n",
        "\n",
        "# Print the counts\n",
        "print(car_counts)"
      ],
      "metadata": {
        "colab": {
          "base_uri": "https://localhost:8080/"
        },
        "id": "pgVepLzBvdFT",
        "outputId": "34438eb0-119c-4d49-d3ed-2772b883b2a7"
      },
      "execution_count": null,
      "outputs": [
        {
          "output_type": "stream",
          "name": "stdout",
          "text": [
            "Good         2519\n",
            "Excellent    1411\n",
            "Fair          767\n",
            "Bad           302\n",
            "Name: Classification, dtype: int64\n"
          ]
        }
      ]
    },
    {
      "cell_type": "markdown",
      "source": [
        "#2) Correlations between the car ratings (reliability, exterior styling, value for money, performance, interior design, comfort) and the car's Price. Finding the correlation coefficients between these variables."
      ],
      "metadata": {
        "id": "l_8JqSb0-0pN"
      }
    },
    {
      "cell_type": "code",
      "source": [
        "# Effect of drivetrain on resale value\n",
        "# To create a boxplot to compare the average resale value for different drivetrain categories.\n",
        "\n"
      ],
      "metadata": {
        "id": "-96NN_ZOyFyK"
      },
      "execution_count": null,
      "outputs": []
    },
    {
      "cell_type": "code",
      "source": [
        "data.loc[408]"
      ],
      "metadata": {
        "colab": {
          "base_uri": "https://localhost:8080/"
        },
        "id": "BaWqej0WSEG8",
        "outputId": "ca1c70fc-d459-42b3-a626-9f2e8fdce534"
      },
      "execution_count": null,
      "outputs": [
        {
          "output_type": "execute_result",
          "data": {
            "text/plain": [
              "Year                                        2023\n",
              "Make                                       Honda\n",
              "Model                              Pilot Touring\n",
              "Condition                                    New\n",
              "Price                                 Not Priced\n",
              "Consumer_Rating                              4.8\n",
              "Consumer_Review_#                            725\n",
              "Exterior_Color             Lunar Silver Metallic\n",
              "Interior_Color                              Gray\n",
              "Drivetrain                       All-wheel Drive\n",
              "Transmission                                  32\n",
              "Comfort_Rating                               4.4\n",
              "Interior_Design_Rating                       4.3\n",
              "Performance_Rating                           4.3\n",
              "Value_For_Money_Rating                       4.4\n",
              "Exterior_Styling_Rating                     4.45\n",
              "Reliability_Rating                           4.5\n",
              "Seller_Type                               Dealer\n",
              "Classification                              Good\n",
              "Name: 408, dtype: object"
            ]
          },
          "metadata": {},
          "execution_count": 78
        }
      ]
    },
    {
      "cell_type": "code",
      "source": [
        "#Dropping row 408 as its price is not given\n",
        "data.drop(index=408, inplace=True)"
      ],
      "metadata": {
        "id": "jsZ3g0SkSEBS"
      },
      "execution_count": null,
      "outputs": []
    },
    {
      "cell_type": "code",
      "source": [
        "\n",
        "data['Price'].value_counts()"
      ],
      "metadata": {
        "colab": {
          "base_uri": "https://localhost:8080/"
        },
        "id": "k1yg8JtIU4hp",
        "outputId": "8d6b49fe-837b-4bf2-f057-3d5d9b7afea1"
      },
      "execution_count": null,
      "outputs": [
        {
          "output_type": "execute_result",
          "data": {
            "text/plain": [
              "$41,770    70\n",
              "$30,470    68\n",
              "$40,240    67\n",
              "$46,500    63\n",
              "$32,560    50\n",
              "           ..\n",
              "$52,890     1\n",
              "$32,598     1\n",
              "$27,040     1\n",
              "$28,444     1\n",
              "$53,325     1\n",
              "Name: Price, Length: 2333, dtype: int64"
            ]
          },
          "metadata": {},
          "execution_count": 80
        }
      ]
    },
    {
      "cell_type": "code",
      "source": [
        "#Finding Counts of rows whose value is given as Not Priced\n",
        "value_counts = data['Price'].value_counts()\n",
        "\n",
        "# Get the count for a Not Priced Rows\n",
        "count = value_counts['Not Priced']\n",
        "\n",
        "# Print the count\n",
        "print(count)"
      ],
      "metadata": {
        "id": "usw4QN3iU4fG",
        "colab": {
          "base_uri": "https://localhost:8080/"
        },
        "outputId": "ff0f4ba6-18f7-4070-ad3e-a31d8541fd50"
      },
      "execution_count": null,
      "outputs": [
        {
          "output_type": "stream",
          "name": "stdout",
          "text": [
            "38\n"
          ]
        }
      ]
    },
    {
      "cell_type": "code",
      "source": [
        "#Dropping all the rows with not priced value in column price\n",
        "specific_value = 'Not Priced'\n",
        "\n",
        "\n",
        "mask = data['Price'] == specific_value\n",
        "\n",
        "filtered_data = data[~mask]\n",
        "\n",
        "print(filtered_data)"
      ],
      "metadata": {
        "id": "k99T21eUU4bd",
        "colab": {
          "base_uri": "https://localhost:8080/"
        },
        "outputId": "af655e47-32bf-4c27-9c40-06ecab802ee6"
      },
      "execution_count": null,
      "outputs": [
        {
          "output_type": "stream",
          "name": "stdout",
          "text": [
            "      Year   Make                      Model Condition    Price  \\\n",
            "0     2023  Honda              Ridgeline RTL       New  $46,370   \n",
            "1     2023  Honda          CR-V Hybrid Sport       New  $34,150   \n",
            "2     2023  Honda          CR-V Hybrid Sport       New  $34,245   \n",
            "3     2022  Honda           Pilot TrailSport       New  $46,500   \n",
            "4     2023  Honda  CR-V Hybrid Sport Touring       New  $40,395   \n",
            "...    ...    ...                        ...       ...      ...   \n",
            "4994  2018  Honda               Accord Sport      Used  $19,999   \n",
            "4995  2020  Honda                     Fit LX      Used  $17,495   \n",
            "4996  2018  Honda                Civic Sport      Used  $19,500   \n",
            "4997  2011  Honda                Accord EX-L      Used  $17,998   \n",
            "4998  2023  Honda                Pilot Elite       New  $53,325   \n",
            "\n",
            "      Consumer_Rating  Consumer_Review_#           Exterior_Color  \\\n",
            "0                 4.8                  9     Platinum White Pearl   \n",
            "1                 1.7                 24     Platinum White Pearl   \n",
            "2                 4.7               2869  Meteorite Gray Metallic   \n",
            "3                 5.0                 12         Sonic Gray Pearl   \n",
            "4                 4.4                 12      Crystal Black Pearl   \n",
            "...               ...                ...                      ...   \n",
            "4994              5.0               3234                    White   \n",
            "4995              4.3                 54                      Red   \n",
            "4996              4.3               1925       White Orchid Pearl   \n",
            "4997              4.6                  4                    Black   \n",
            "4998              4.3                240    Modern Steel Metallic   \n",
            "\n",
            "     Interior_Color         Drivetrain  Transmission  Comfort_Rating  \\\n",
            "0             Beige    All-wheel Drive            32             5.0   \n",
            "1             Black                FWD            34             5.0   \n",
            "2             Black  Front-wheel Drive            34             5.0   \n",
            "3             Black    All-wheel Drive            29             5.0   \n",
            "4             Black    All-wheel Drive            34             5.0   \n",
            "...             ...                ...           ...             ...   \n",
            "4994          Black  Front-wheel Drive            34             4.8   \n",
            "4995          Black  Front-wheel Drive            34             4.7   \n",
            "4996          Beige  Front-wheel Drive            25             4.7   \n",
            "4997          Black  Front-wheel Drive            19             4.4   \n",
            "4998          Brown    All-wheel Drive             5             4.4   \n",
            "\n",
            "      Interior_Design_Rating  Performance_Rating  Value_For_Money_Rating  \\\n",
            "0                        4.8                 4.8                     4.2   \n",
            "1                        3.0                 4.0                     4.0   \n",
            "2                        3.0                 4.0                     4.0   \n",
            "3                        5.0                 5.0                     5.0   \n",
            "4                        3.0                 4.0                     4.0   \n",
            "...                      ...                 ...                     ...   \n",
            "4994                     4.8                 4.7                     4.7   \n",
            "4995                     4.6                 4.7                     4.8   \n",
            "4996                     4.7                 4.8                     4.8   \n",
            "4997                     4.5                 4.4                     4.6   \n",
            "4998                     4.3                 4.3                     4.4   \n",
            "\n",
            "      Exterior_Styling_Rating  Reliability_Rating Seller_Type Classification  \n",
            "0                        5.00                 5.0      Dealer           Good  \n",
            "1                        5.00                 5.0      Dealer            Bad  \n",
            "2                        5.00                 5.0      Dealer            Bad  \n",
            "3                        5.00                 5.0      Dealer      Excellent  \n",
            "4                        5.00                 5.0      Dealer            Bad  \n",
            "...                       ...                 ...         ...            ...  \n",
            "4994                     4.80                 4.8      Dealer           Good  \n",
            "4995                     4.50                 4.8      Dealer           Good  \n",
            "4996                     4.90                 4.8      Dealer           Good  \n",
            "4997                     4.50                 4.8      Dealer           Good  \n",
            "4998                     4.45                 4.5      Dealer           Good  \n",
            "\n",
            "[4960 rows x 19 columns]\n"
          ]
        }
      ]
    },
    {
      "cell_type": "code",
      "source": [
        "#Converting Price into Numeric Value by removing dollar signs\n",
        "filtered_data['Price'] = filtered_data['Price'].str.replace('$', '').str.replace(',', '')\n",
        "filtered_data['Price'] = pd.to_numeric(filtered_data['Price'], errors='coerce')"
      ],
      "metadata": {
        "id": "YHKw72s8U4V7",
        "colab": {
          "base_uri": "https://localhost:8080/"
        },
        "outputId": "d3e0f06b-d434-418c-87c8-63fd91b94790"
      },
      "execution_count": null,
      "outputs": [
        {
          "output_type": "stream",
          "name": "stderr",
          "text": [
            "<ipython-input-83-bb763f51d1ad>:2: FutureWarning: The default value of regex will change from True to False in a future version. In addition, single character regular expressions will *not* be treated as literal strings when regex=True.\n",
            "  filtered_data['Price'] = filtered_data['Price'].str.replace('$', '').str.replace(',', '')\n",
            "<ipython-input-83-bb763f51d1ad>:2: SettingWithCopyWarning: \n",
            "A value is trying to be set on a copy of a slice from a DataFrame.\n",
            "Try using .loc[row_indexer,col_indexer] = value instead\n",
            "\n",
            "See the caveats in the documentation: https://pandas.pydata.org/pandas-docs/stable/user_guide/indexing.html#returning-a-view-versus-a-copy\n",
            "  filtered_data['Price'] = filtered_data['Price'].str.replace('$', '').str.replace(',', '')\n",
            "<ipython-input-83-bb763f51d1ad>:3: SettingWithCopyWarning: \n",
            "A value is trying to be set on a copy of a slice from a DataFrame.\n",
            "Try using .loc[row_indexer,col_indexer] = value instead\n",
            "\n",
            "See the caveats in the documentation: https://pandas.pydata.org/pandas-docs/stable/user_guide/indexing.html#returning-a-view-versus-a-copy\n",
            "  filtered_data['Price'] = pd.to_numeric(filtered_data['Price'], errors='coerce')\n"
          ]
        }
      ]
    },
    {
      "cell_type": "code",
      "source": [
        "#Converting Rating columns into numeric and finding correlation matrix\n",
        "ratings_columns = ['Reliability_Rating', 'Exterior_Styling_Rating', 'Value_For_Money_Rating', 'Performance_Rating', 'Interior_Design_Rating', 'Comfort_Rating']\n",
        "filtered_data[ratings_columns] = filtered_data[ratings_columns].apply(pd.to_numeric, errors='coerce')\n",
        "\n",
        "correlation_matrix = filtered_data[ratings_columns + ['Price']].corr()\n",
        "\n",
        "print(correlation_matrix)"
      ],
      "metadata": {
        "id": "2dlTkwnfU4S0",
        "colab": {
          "base_uri": "https://localhost:8080/"
        },
        "outputId": "d860e105-3efd-4673-c27c-88c3135e5ec6"
      },
      "execution_count": null,
      "outputs": [
        {
          "output_type": "stream",
          "name": "stdout",
          "text": [
            "                         Reliability_Rating  Exterior_Styling_Rating  \\\n",
            "Reliability_Rating                 1.000000                 0.351807   \n",
            "Exterior_Styling_Rating            0.351807                 1.000000   \n",
            "Value_For_Money_Rating             0.306758                 0.657777   \n",
            "Performance_Rating                 0.467737                 0.357158   \n",
            "Interior_Design_Rating             0.338806                 0.012639   \n",
            "Comfort_Rating                     0.660116                 0.237289   \n",
            "Price                              0.267387                 0.044860   \n",
            "\n",
            "                         Value_For_Money_Rating  Performance_Rating  \\\n",
            "Reliability_Rating                     0.306758            0.467737   \n",
            "Exterior_Styling_Rating                0.657777            0.357158   \n",
            "Value_For_Money_Rating                 1.000000            0.573221   \n",
            "Performance_Rating                     0.573221            1.000000   \n",
            "Interior_Design_Rating                 0.523705            0.652206   \n",
            "Comfort_Rating                         0.094872            0.587773   \n",
            "Price                                 -0.113963            0.087629   \n",
            "\n",
            "                         Interior_Design_Rating  Comfort_Rating     Price  \n",
            "Reliability_Rating                     0.338806        0.660116  0.267387  \n",
            "Exterior_Styling_Rating                0.012639        0.237289  0.044860  \n",
            "Value_For_Money_Rating                 0.523705        0.094872 -0.113963  \n",
            "Performance_Rating                     0.652206        0.587773  0.087629  \n",
            "Interior_Design_Rating                 1.000000        0.288489  0.072925  \n",
            "Comfort_Rating                         0.288489        1.000000  0.399456  \n",
            "Price                                  0.072925        0.399456  1.000000  \n"
          ]
        },
        {
          "output_type": "stream",
          "name": "stderr",
          "text": [
            "<ipython-input-84-dd65d15b0488>:3: SettingWithCopyWarning: \n",
            "A value is trying to be set on a copy of a slice from a DataFrame.\n",
            "Try using .loc[row_indexer,col_indexer] = value instead\n",
            "\n",
            "See the caveats in the documentation: https://pandas.pydata.org/pandas-docs/stable/user_guide/indexing.html#returning-a-view-versus-a-copy\n",
            "  filtered_data[ratings_columns] = filtered_data[ratings_columns].apply(pd.to_numeric, errors='coerce')\n"
          ]
        }
      ]
    },
    {
      "cell_type": "markdown",
      "source": [
        "#3) Comparing the average resale value for different drivetrain categories using a suitable plot, such as a boxplot or bar plot."
      ],
      "metadata": {
        "id": "HDN41XEaA8i0"
      }
    },
    {
      "cell_type": "code",
      "source": [
        "# Effect of drivetrain on resale value\n",
        "# To create a boxplot to compare the average resale value for different drivetrain categories.\n"
      ],
      "metadata": {
        "id": "HHl8dYCDU4P9"
      },
      "execution_count": null,
      "outputs": []
    },
    {
      "cell_type": "code",
      "source": [
        "sns.boxplot(x='Drivetrain', y='Price', data=filtered_data)\n",
        "plt.xlabel('Drivetrain')\n",
        "plt.ylabel('Resale Value')\n",
        "plt.title('Resale Value vs. Drivetrain')\n",
        "plt.show()"
      ],
      "metadata": {
        "id": "x1oflRuhU4Me",
        "colab": {
          "base_uri": "https://localhost:8080/",
          "height": 472
        },
        "outputId": "96272d3e-139f-48f3-8009-dcb7bfb41cf1"
      },
      "execution_count": null,
      "outputs": [
        {
          "output_type": "display_data",
          "data": {
            "text/plain": [
              "<Figure size 640x480 with 1 Axes>"
            ],
            "image/png": "[encoded data removed]"
          },
          "metadata": {}
        }
      ]
    },
    {
      "cell_type": "markdown",
      "source": [
        "#4)Calculating the average resale value for each transmission category"
      ],
      "metadata": {
        "id": "-63_AshcBU70"
      }
    },
    {
      "cell_type": "code",
      "source": [
        " #Average resale value based on transmission type:\n",
        "# To calculate the average resale value for each transmission category.\n",
        "\n",
        "average_price = filtered_data.groupby('Transmission')['Price'].mean()\n",
        "\n",
        "print(average_price)\n"
      ],
      "metadata": {
        "colab": {
          "base_uri": "https://localhost:8080/"
        },
        "id": "ApX5b_p0SD90",
        "outputId": "06447033-a3d3-4d0d-dec8-565bda700e97"
      },
      "execution_count": null,
      "outputs": [
        {
          "output_type": "stream",
          "name": "stdout",
          "text": [
            "Transmission\n",
            "0     40240.000000\n",
            "1     13990.000000\n",
            "2     34998.888889\n",
            "3     41066.142857\n",
            "4     46680.461538\n",
            "5     41743.717073\n",
            "6     43803.833333\n",
            "7     20999.000000\n",
            "8      7900.000000\n",
            "9     11750.000000\n",
            "10    45615.000000\n",
            "11    27900.000000\n",
            "12    39500.000000\n",
            "13     8475.000000\n",
            "14     4999.000000\n",
            "15     9076.250000\n",
            "16     7999.000000\n",
            "17     9023.900000\n",
            "18     8965.000000\n",
            "19    12931.075758\n",
            "20    11171.538462\n",
            "21    30890.000000\n",
            "22    27438.200000\n",
            "23    43590.500000\n",
            "24    26266.709957\n",
            "25    30314.419753\n",
            "26    36925.000000\n",
            "27    42687.566667\n",
            "28    44358.333333\n",
            "29    40139.513867\n",
            "30    43344.000000\n",
            "31    35776.500000\n",
            "32    43362.434146\n",
            "33    12997.000000\n",
            "34    29275.846575\n",
            "35    18995.000000\n",
            "36    29999.000000\n",
            "37    29300.350000\n",
            "38    14550.000000\n",
            "39    19999.000000\n",
            "40    24195.000000\n",
            "41    37195.000000\n",
            "42    28595.575758\n",
            "43    44207.500000\n",
            "44    41796.000000\n",
            "45    36505.000000\n",
            "46    31858.655172\n",
            "47    27100.470588\n",
            "48    18095.600000\n",
            "49    27650.500000\n",
            "50    28068.666667\n",
            "51    36709.750000\n",
            "52    29170.851852\n",
            "53    26906.000000\n",
            "54    36173.571429\n",
            "55    22089.333333\n",
            "56    37325.529412\n",
            "57    40432.961538\n",
            "Name: Price, dtype: float64\n"
          ]
        }
      ]
    },
    {
      "cell_type": "markdown",
      "source": [
        "#4.A) Determining the significant differences in Price and Transmission Category"
      ],
      "metadata": {
        "id": "AbDC9dhiBnF1"
      }
    },
    {
      "cell_type": "code",
      "source": [
        "from scipy.stats import f_oneway\n"
      ],
      "metadata": {
        "id": "x_prEkH9SD6V"
      },
      "execution_count": null,
      "outputs": []
    },
    {
      "cell_type": "code",
      "source": [
        "# Perform one-way ANOVA to test for significant differences in average price\n",
        "transmission_categories = filtered_data['Transmission'].unique()\n",
        "\n",
        "# Create a list to store the price values for each transmission category\n",
        "transmission_price = []\n",
        "for category in transmission_categories:\n",
        "    transmission_price.append(filtered_data[filtered_data['Transmission'] == category]['Price'])\n",
        "\n",
        "# Perform the ANOVA test\n",
        "f_statistic, p_value = f_oneway(*transmission_price)\n",
        "\n",
        "# Print the ANOVA results\n",
        "print(\"ANOVA results:\")\n",
        "print(\"F-statistic:\", f_statistic)\n",
        "print(\"p-value:\", p_value)"
      ],
      "metadata": {
        "id": "JysnwRxxSD3C",
        "colab": {
          "base_uri": "https://localhost:8080/"
        },
        "outputId": "f1548eec-f3c9-46db-9296-415f020d2500"
      },
      "execution_count": null,
      "outputs": [
        {
          "output_type": "stream",
          "name": "stdout",
          "text": [
            "ANOVA results:\n",
            "F-statistic: 110.83161844740113\n",
            "p-value: 0.0\n"
          ]
        }
      ]
    },
    {
      "cell_type": "markdown",
      "source": [
        "\n",
        "```\n",
        "# #The F-statistic measures the overall difference in means between the groups, specifically for the variable being tested (in this case, the price).\n",
        "#A higher F-statistic suggests a larger difference in means between the groups.\n",
        "# A p-value of 0.0 suggests strong evidence against the null hypothesis and indicates a significant difference in the average price among the transmission categories.\n",
        "#the ANOVA results indicate that there is a significant difference in the average price among the transmission categories in the dataset\n",
        "\n",
        "```\n",
        "\n",
        "\n",
        "\n",
        "\n",
        "\n",
        "\n",
        "\n",
        "\n",
        "\n",
        "\n",
        "\n",
        "\n"
      ],
      "metadata": {
        "id": "e9GbVnohnhH3"
      }
    },
    {
      "cell_type": "markdown",
      "source": [
        " The ANOVA results indicate that there is a significant difference in the average price among the transmission categories in the dataset"
      ],
      "metadata": {
        "id": "bd93y9-ZCv1w"
      }
    },
    {
      "cell_type": "markdown",
      "source": [
        "#5) Visualization Of Distribution Of Car Prices"
      ],
      "metadata": {
        "id": "e2Hrh8liCzCR"
      }
    },
    {
      "cell_type": "code",
      "source": [
        "#visualization of the distribution of car prices in the dataset\n",
        "plt.hist(filtered_data['Price'], bins=10, edgecolor='black')\n",
        "\n",
        "# Set the labels and title of the histogram\n",
        "plt.xlabel('Car Price')\n",
        "plt.ylabel('Frequency')\n",
        "plt.title('Distribution of Car Prices')\n",
        "\n",
        "# Display the histogram\n",
        "plt.show()"
      ],
      "metadata": {
        "colab": {
          "base_uri": "https://localhost:8080/",
          "height": 472
        },
        "id": "hdHX61KrEhbZ",
        "outputId": "5f3b7f4c-1ffd-4a34-ec67-7f1928d7876f"
      },
      "execution_count": null,
      "outputs": [
        {
          "output_type": "display_data",
          "data": {
            "text/plain": [
              "<Figure size 640x480 with 1 Axes>"
            ],
            "image/png": "[encoded data removed]"
          },
          "metadata": {}
        }
      ]
    },
    {
      "cell_type": "markdown",
      "source": [
        "#5.A) Understanding Outliers or unusual Pricing in dataset"
      ],
      "metadata": {
        "id": "vAIrWm8UDHiD"
      }
    },
    {
      "cell_type": "code",
      "source": [
        "#Understanding outliers for analyzing unusual pricing\n",
        "#Ploting box plot\n",
        "sns.boxplot(x=filtered_data['Price'])\n",
        "plt.xlabel('Car Price')\n",
        "plt.title('Boxplot of Car Prices')\n",
        "plt.show()"
      ],
      "metadata": {
        "id": "k7poi-UyHxJM",
        "colab": {
          "base_uri": "https://localhost:8080/",
          "height": 472
        },
        "outputId": "28a1ba5c-a838-4257-b039-4ce73d82f7ad"
      },
      "execution_count": null,
      "outputs": [
        {
          "output_type": "display_data",
          "data": {
            "text/plain": [
              "<Figure size 640x480 with 1 Axes>"
            ],
            "image/png": "[encoded data removed]"
          },
          "metadata": {}
        }
      ]
    },
    {
      "cell_type": "code",
      "source": [
        "#Statstical Analyzation\n",
        "price_stats = filtered_data['Price'].describe()\n",
        "print(price_stats)"
      ],
      "metadata": {
        "colab": {
          "base_uri": "https://localhost:8080/"
        },
        "id": "GPXJh2Hwqone",
        "outputId": "f7c63ce4-2f6f-414a-e38d-094a84f5b7b8"
      },
      "execution_count": null,
      "outputs": [
        {
          "output_type": "stream",
          "name": "stdout",
          "text": [
            "count     4960.000000\n",
            "mean     33713.463710\n",
            "std      10321.605751\n",
            "min       1995.000000\n",
            "25%      26998.000000\n",
            "50%      33949.500000\n",
            "75%      41799.000000\n",
            "max      69980.000000\n",
            "Name: Price, dtype: float64\n"
          ]
        }
      ]
    },
    {
      "cell_type": "code",
      "source": [
        "# Overall, based on this data, we can infer that the car prices range from $1995 to $69,980, with an average price of approximately $33,713.46.\n",
        "#The prices are spread out with a standard deviation of 10,321.61, indicating some variability.\n"
      ],
      "metadata": {
        "id": "e6ufiTS1rR0i"
      },
      "execution_count": null,
      "outputs": []
    },
    {
      "cell_type": "markdown",
      "source": [
        "OUTLIER IN PRICING:\n",
        "One unusual aspect is the presence of a minimum price of $1995. This value is significantly lower compared to the other descriptive statistics, such as the mean and quartiles.\n",
        "It is possible that this minimum price could indicate an outlier or an unusual pricing scenario for a specific car in the dataset. Further investigation would be necessary to determine the reason behind this unusually low price. It could be due to various factors such as a data entry error, a special promotion or discount, or an exceptional circumstance related to the specific car.\n"
      ],
      "metadata": {
        "id": "9T9dS0kiuWrW"
      }
    },
    {
      "cell_type": "markdown",
      "source": [
        "\n",
        "\n",
        "#TASK - 2\n",
        "\n",
        "\n",
        "\n"
      ],
      "metadata": {
        "id": "qjG5SqrrtCmN"
      }
    },
    {
      "cell_type": "code",
      "source": [
        "#Importing important libraries\n",
        "from sklearn.linear_model import LinearRegression\n",
        "from sklearn.model_selection import train_test_split"
      ],
      "metadata": {
        "id": "RTJtlDg2sqBN"
      },
      "execution_count": null,
      "outputs": []
    },
    {
      "cell_type": "code",
      "source": [
        "filtered_data.columns"
      ],
      "metadata": {
        "colab": {
          "base_uri": "https://localhost:8080/"
        },
        "id": "tShQRZ4gHGt8",
        "outputId": "ab37f041-6268-496c-d2f9-318e3fe6152f"
      },
      "execution_count": null,
      "outputs": [
        {
          "output_type": "execute_result",
          "data": {
            "text/plain": [
              "Index(['Year', 'Make', 'Model', 'Condition', 'Price', 'Consumer_Rating',\n",
              "       'Consumer_Review_#', 'Exterior_Color', 'Interior_Color', 'Drivetrain',\n",
              "       'Transmission', 'Comfort_Rating', 'Interior_Design_Rating',\n",
              "       'Performance_Rating', 'Value_For_Money_Rating',\n",
              "       'Exterior_Styling_Rating', 'Reliability_Rating', 'Seller_Type',\n",
              "       'Classification'],\n",
              "      dtype='object')"
            ]
          },
          "metadata": {},
          "execution_count": 140
        }
      ]
    },
    {
      "cell_type": "code",
      "source": [
        "data['Year'].unique()"
      ],
      "metadata": {
        "colab": {
          "base_uri": "https://localhost:8080/"
        },
        "id": "W3x-FVhON9CE",
        "outputId": "4271bae4-9146-4ea7-db8e-a631fd57fad9"
      },
      "execution_count": null,
      "outputs": [
        {
          "output_type": "execute_result",
          "data": {
            "text/plain": [
              "array([2023, 2022, 2017, 2016, 2012, 2021, 2020, 2014, 2019, 2018, 2011,\n",
              "       2000, 2009, 2004, 2015, 2007, 1997, 2013, 2010, 2008, 2005, 1981,\n",
              "       2006, 2002, 1989, 1987, 2003, 1991, 1992, 2001, 1998, 1999, 1993])"
            ]
          },
          "metadata": {},
          "execution_count": 141
        }
      ]
    },
    {
      "cell_type": "code",
      "source": [
        "#Dividing input and Output\n",
        "X = filtered_data[['Year', 'Price']]\n",
        "Y =filtered_data['Performance_Rating']"
      ],
      "metadata": {
        "id": "wtU8OcgnGYV-"
      },
      "execution_count": null,
      "outputs": []
    },
    {
      "cell_type": "code",
      "source": [
        "#Splitting data in test and train\n",
        "X_train, X_test, Y_train, Y_test = train_test_split(X, Y, test_size=0.2, random_state=42)\n"
      ],
      "metadata": {
        "id": "UWgN0BhgGX5Q"
      },
      "execution_count": null,
      "outputs": []
    },
    {
      "cell_type": "code",
      "source": [
        "filtered_data['Price'].unique()"
      ],
      "metadata": {
        "colab": {
          "base_uri": "https://localhost:8080/"
        },
        "id": "QPLXRub6SQ57",
        "outputId": "5607139d-0f23-4654-99d1-ec599eca7a41"
      },
      "execution_count": null,
      "outputs": [
        {
          "output_type": "execute_result",
          "data": {
            "text/plain": [
              "array([46370, 34150, 34245, ..., 28955, 17495, 53325])"
            ]
          },
          "metadata": {},
          "execution_count": 144
        }
      ]
    },
    {
      "cell_type": "code",
      "source": [
        "model = LinearRegression()"
      ],
      "metadata": {
        "id": "RxpsiuAtKyYt"
      },
      "execution_count": null,
      "outputs": []
    },
    {
      "cell_type": "code",
      "source": [
        "model.fit(X_train, Y_train)\n"
      ],
      "metadata": {
        "colab": {
          "base_uri": "https://localhost:8080/",
          "height": 74
        },
        "id": "bqrh5gpxSjFm",
        "outputId": "1f8b991d-680e-4031-c145-6a7f3d915a00"
      },
      "execution_count": null,
      "outputs": [
        {
          "output_type": "execute_result",
          "data": {
            "text/plain": [
              "LinearRegression()"
            ],
            "text/html": [
              "<style>#sk-container-id-4 {color: black;background-color: white;}#sk-container-id-4 pre{padding: 0;}#sk-container-id-4 div.sk-toggleable {background-color: white;}#sk-container-id-4 label.sk-toggleable__label {cursor: pointer;display: block;width: 100%;margin-bottom: 0;padding: 0.3em;box-sizing: border-box;text-align: center;}#sk-container-id-4 label.sk-toggleable__label-arrow:before {content: \"▸\";float: left;margin-right: 0.25em;color: #696969;}#sk-container-id-4 label.sk-toggleable__label-arrow:hover:before {color: black;}#sk-container-id-4 div.sk-estimator:hover label.sk-toggleable__label-arrow:before {color: black;}#sk-container-id-4 div.sk-toggleable__content {max-height: 0;max-width: 0;overflow: hidden;text-align: left;background-color: #f0f8ff;}#sk-container-id-4 div.sk-toggleable__content pre {margin: 0.2em;color: black;border-radius: 0.25em;background-color: #f0f8ff;}#sk-container-id-4 input.sk-toggleable__control:checked~div.sk-toggleable__content {max-height: 200px;max-width: 100%;overflow: auto;}#sk-container-id-4 input.sk-toggleable__control:checked~label.sk-toggleable__label-arrow:before {content: \"▾\";}#sk-container-id-4 div.sk-estimator input.sk-toggleable__control:checked~label.sk-toggleable__label {background-color: #d4ebff;}#sk-container-id-4 div.sk-label input.sk-toggleable__control:checked~label.sk-toggleable__label {background-color: #d4ebff;}#sk-container-id-4 input.sk-hidden--visually {border: 0;clip: rect(1px 1px 1px 1px);clip: rect(1px, 1px, 1px, 1px);height: 1px;margin: -1px;overflow: hidden;padding: 0;position: absolute;width: 1px;}#sk-container-id-4 div.sk-estimator {font-family: monospace;background-color: #f0f8ff;border: 1px dotted black;border-radius: 0.25em;box-sizing: border-box;margin-bottom: 0.5em;}#sk-container-id-4 div.sk-estimator:hover {background-color: #d4ebff;}#sk-container-id-4 div.sk-parallel-item::after {content: \"\";width: 100%;border-bottom: 1px solid gray;flex-grow: 1;}#sk-container-id-4 div.sk-label:hover label.sk-toggleable__label {background-color: #d4ebff;}#sk-container-id-4 div.sk-serial::before {content: \"\";position: absolute;border-left: 1px solid gray;box-sizing: border-box;top: 0;bottom: 0;left: 50%;z-index: 0;}#sk-container-id-4 div.sk-serial {display: flex;flex-direction: column;align-items: center;background-color: white;padding-right: 0.2em;padding-left: 0.2em;position: relative;}#sk-container-id-4 div.sk-item {position: relative;z-index: 1;}#sk-container-id-4 div.sk-parallel {display: flex;align-items: stretch;justify-content: center;background-color: white;position: relative;}#sk-container-id-4 div.sk-item::before, #sk-container-id-4 div.sk-parallel-item::before {content: \"\";position: absolute;border-left: 1px solid gray;box-sizing: border-box;top: 0;bottom: 0;left: 50%;z-index: -1;}#sk-container-id-4 div.sk-parallel-item {display: flex;flex-direction: column;z-index: 1;position: relative;background-color: white;}#sk-container-id-4 div.sk-parallel-item:first-child::after {align-self: flex-end;width: 50%;}#sk-container-id-4 div.sk-parallel-item:last-child::after {align-self: flex-start;width: 50%;}#sk-container-id-4 div.sk-parallel-item:only-child::after {width: 0;}#sk-container-id-4 div.sk-dashed-wrapped {border: 1px dashed gray;margin: 0 0.4em 0.5em 0.4em;box-sizing: border-box;padding-bottom: 0.4em;background-color: white;}#sk-container-id-4 div.sk-label label {font-family: monospace;font-weight: bold;display: inline-block;line-height: 1.2em;}#sk-container-id-4 div.sk-label-container {text-align: center;}#sk-container-id-4 div.sk-container {/* jupyter's `normalize.less` sets `[hidden] { display: none; }` but bootstrap.min.css set `[hidden] { display: none !important; }` so we also need the `!important` here to be able to override the default hidden behavior on the sphinx rendered scikit-learn.org. See: https://github.com/scikit-learn/scikit-learn/issues/21755 */display: inline-block !important;position: relative;}#sk-container-id-4 div.sk-text-repr-fallback {display: none;}</style><div id=\"sk-container-id-4\" class=\"sk-top-container\"><div class=\"sk-text-repr-fallback\"><pre>LinearRegression()</pre><b>In a Jupyter environment, please rerun this cell to show the HTML representation or trust the notebook. <br />On GitHub, the HTML representation is unable to render, please try loading this page with nbviewer.org.</b></div><div class=\"sk-container\" hidden><div class=\"sk-item\"><div class=\"sk-estimator sk-toggleable\"><input class=\"sk-toggleable__control sk-hidden--visually\" id=\"sk-estimator-id-4\" type=\"checkbox\" checked><label for=\"sk-estimator-id-4\" class=\"sk-toggleable__label sk-toggleable__label-arrow\">LinearRegression</label><div class=\"sk-toggleable__content\"><pre>LinearRegression()</pre></div></div></div></div></div>"
            ]
          },
          "metadata": {},
          "execution_count": 146
        }
      ]
    },
    {
      "cell_type": "code",
      "source": [
        "model.coef_"
      ],
      "metadata": {
        "id": "tY67I76MGXqm",
        "colab": {
          "base_uri": "https://localhost:8080/"
        },
        "outputId": "73d291c5-5d6d-46d0-bf93-55c10e28b62f"
      },
      "execution_count": null,
      "outputs": [
        {
          "output_type": "execute_result",
          "data": {
            "text/plain": [
              "array([-7.04799688e-03,  4.77991644e-06])"
            ]
          },
          "metadata": {},
          "execution_count": 147
        }
      ]
    },
    {
      "cell_type": "code",
      "source": [
        "model.intercept_"
      ],
      "metadata": {
        "id": "eW10ZX9ZGXWW",
        "colab": {
          "base_uri": "https://localhost:8080/"
        },
        "outputId": "8c0ff50e-f9af-49e1-e201-f5dd8efed84b"
      },
      "execution_count": null,
      "outputs": [
        {
          "output_type": "execute_result",
          "data": {
            "text/plain": [
              "18.704065309794732"
            ]
          },
          "metadata": {},
          "execution_count": 148
        }
      ]
    },
    {
      "cell_type": "code",
      "source": [
        "model.score(X_train, Y_train)\n"
      ],
      "metadata": {
        "colab": {
          "base_uri": "https://localhost:8080/"
        },
        "id": "SImfR5L-fyXZ",
        "outputId": "cec5a3d8-9cb4-493e-a268-3c541034b5f5"
      },
      "execution_count": null,
      "outputs": [
        {
          "output_type": "execute_result",
          "data": {
            "text/plain": [
              "0.01052511112252763"
            ]
          },
          "metadata": {},
          "execution_count": 149
        }
      ]
    },
    {
      "cell_type": "code",
      "source": [
        "model.score(X_test, Y_test)"
      ],
      "metadata": {
        "colab": {
          "base_uri": "https://localhost:8080/"
        },
        "id": "i9_Cf60sUrNC",
        "outputId": "ee7dd722-7b7e-42e6-f359-be00e6c48498"
      },
      "execution_count": null,
      "outputs": [
        {
          "output_type": "execute_result",
          "data": {
            "text/plain": [
              "0.005854311734528772"
            ]
          },
          "metadata": {},
          "execution_count": 150
        }
      ]
    },
    {
      "cell_type": "markdown",
      "source": [
        "THIS MODEL FAILS ON LINEAR REGRESSION ALGORITHM DUE TO ITS LOW TEST AND TRAIN SCORE"
      ],
      "metadata": {
        "id": "Hu8dNAbaUVTi"
      }
    },
    {
      "cell_type": "markdown",
      "source": [
        "#USING DECISION TREE REGRESSOR"
      ],
      "metadata": {
        "id": "fdF_UipgVcVI"
      }
    },
    {
      "cell_type": "code",
      "source": [
        "#importing library\n",
        "from sklearn.tree import DecisionTreeRegressor\n",
        "from sklearn.model_selection import train_test_split\n",
        "from sklearn.metrics import mean_squared_error, r2_score\n"
      ],
      "metadata": {
        "id": "p4DDDv6XTjy5"
      },
      "execution_count": null,
      "outputs": []
    },
    {
      "cell_type": "code",
      "source": [
        "# giving output and input\n",
        "X = filtered_data[['Year', 'Price']] #output=performance rating and input = year and price\n",
        "y = filtered_data['Performance_Rating']\n",
        "X_train, X_test, y_train, y_test = train_test_split(X, y, test_size=0.2, random_state=42)\n"
      ],
      "metadata": {
        "id": "trfy8mZ0TjrC"
      },
      "execution_count": null,
      "outputs": []
    },
    {
      "cell_type": "code",
      "source": [
        "#fit the model\n",
        "model = DecisionTreeRegressor()\n",
        "model.fit(X_train, y_train)"
      ],
      "metadata": {
        "colab": {
          "base_uri": "https://localhost:8080/",
          "height": 74
        },
        "id": "soBbExbWTjgL",
        "outputId": "d0bd7819-25e5-495e-a038-aa3a15a4d9d8"
      },
      "execution_count": null,
      "outputs": [
        {
          "output_type": "execute_result",
          "data": {
            "text/plain": [
              "DecisionTreeRegressor()"
            ],
            "text/html": [
              "<style>#sk-container-id-3 {color: black;background-color: white;}#sk-container-id-3 pre{padding: 0;}#sk-container-id-3 div.sk-toggleable {background-color: white;}#sk-container-id-3 label.sk-toggleable__label {cursor: pointer;display: block;width: 100%;margin-bottom: 0;padding: 0.3em;box-sizing: border-box;text-align: center;}#sk-container-id-3 label.sk-toggleable__label-arrow:before {content: \"▸\";float: left;margin-right: 0.25em;color: #696969;}#sk-container-id-3 label.sk-toggleable__label-arrow:hover:before {color: black;}#sk-container-id-3 div.sk-estimator:hover label.sk-toggleable__label-arrow:before {color: black;}#sk-container-id-3 div.sk-toggleable__content {max-height: 0;max-width: 0;overflow: hidden;text-align: left;background-color: #f0f8ff;}#sk-container-id-3 div.sk-toggleable__content pre {margin: 0.2em;color: black;border-radius: 0.25em;background-color: #f0f8ff;}#sk-container-id-3 input.sk-toggleable__control:checked~div.sk-toggleable__content {max-height: 200px;max-width: 100%;overflow: auto;}#sk-container-id-3 input.sk-toggleable__control:checked~label.sk-toggleable__label-arrow:before {content: \"▾\";}#sk-container-id-3 div.sk-estimator input.sk-toggleable__control:checked~label.sk-toggleable__label {background-color: #d4ebff;}#sk-container-id-3 div.sk-label input.sk-toggleable__control:checked~label.sk-toggleable__label {background-color: #d4ebff;}#sk-container-id-3 input.sk-hidden--visually {border: 0;clip: rect(1px 1px 1px 1px);clip: rect(1px, 1px, 1px, 1px);height: 1px;margin: -1px;overflow: hidden;padding: 0;position: absolute;width: 1px;}#sk-container-id-3 div.sk-estimator {font-family: monospace;background-color: #f0f8ff;border: 1px dotted black;border-radius: 0.25em;box-sizing: border-box;margin-bottom: 0.5em;}#sk-container-id-3 div.sk-estimator:hover {background-color: #d4ebff;}#sk-container-id-3 div.sk-parallel-item::after {content: \"\";width: 100%;border-bottom: 1px solid gray;flex-grow: 1;}#sk-container-id-3 div.sk-label:hover label.sk-toggleable__label {background-color: #d4ebff;}#sk-container-id-3 div.sk-serial::before {content: \"\";position: absolute;border-left: 1px solid gray;box-sizing: border-box;top: 0;bottom: 0;left: 50%;z-index: 0;}#sk-container-id-3 div.sk-serial {display: flex;flex-direction: column;align-items: center;background-color: white;padding-right: 0.2em;padding-left: 0.2em;position: relative;}#sk-container-id-3 div.sk-item {position: relative;z-index: 1;}#sk-container-id-3 div.sk-parallel {display: flex;align-items: stretch;justify-content: center;background-color: white;position: relative;}#sk-container-id-3 div.sk-item::before, #sk-container-id-3 div.sk-parallel-item::before {content: \"\";position: absolute;border-left: 1px solid gray;box-sizing: border-box;top: 0;bottom: 0;left: 50%;z-index: -1;}#sk-container-id-3 div.sk-parallel-item {display: flex;flex-direction: column;z-index: 1;position: relative;background-color: white;}#sk-container-id-3 div.sk-parallel-item:first-child::after {align-self: flex-end;width: 50%;}#sk-container-id-3 div.sk-parallel-item:last-child::after {align-self: flex-start;width: 50%;}#sk-container-id-3 div.sk-parallel-item:only-child::after {width: 0;}#sk-container-id-3 div.sk-dashed-wrapped {border: 1px dashed gray;margin: 0 0.4em 0.5em 0.4em;box-sizing: border-box;padding-bottom: 0.4em;background-color: white;}#sk-container-id-3 div.sk-label label {font-family: monospace;font-weight: bold;display: inline-block;line-height: 1.2em;}#sk-container-id-3 div.sk-label-container {text-align: center;}#sk-container-id-3 div.sk-container {/* jupyter's `normalize.less` sets `[hidden] { display: none; }` but bootstrap.min.css set `[hidden] { display: none !important; }` so we also need the `!important` here to be able to override the default hidden behavior on the sphinx rendered scikit-learn.org. See: https://github.com/scikit-learn/scikit-learn/issues/21755 */display: inline-block !important;position: relative;}#sk-container-id-3 div.sk-text-repr-fallback {display: none;}</style><div id=\"sk-container-id-3\" class=\"sk-top-container\"><div class=\"sk-text-repr-fallback\"><pre>DecisionTreeRegressor()</pre><b>In a Jupyter environment, please rerun this cell to show the HTML representation or trust the notebook. <br />On GitHub, the HTML representation is unable to render, please try loading this page with nbviewer.org.</b></div><div class=\"sk-container\" hidden><div class=\"sk-item\"><div class=\"sk-estimator sk-toggleable\"><input class=\"sk-toggleable__control sk-hidden--visually\" id=\"sk-estimator-id-3\" type=\"checkbox\" checked><label for=\"sk-estimator-id-3\" class=\"sk-toggleable__label sk-toggleable__label-arrow\">DecisionTreeRegressor</label><div class=\"sk-toggleable__content\"><pre>DecisionTreeRegressor()</pre></div></div></div></div></div>"
            ]
          },
          "metadata": {},
          "execution_count": 132
        }
      ]
    },
    {
      "cell_type": "code",
      "source": [
        "#making prediction\n",
        "y_pred = model.predict(X_test)"
      ],
      "metadata": {
        "id": "EjPwJKOpRGg0"
      },
      "execution_count": null,
      "outputs": []
    },
    {
      "cell_type": "code",
      "source": [
        "# mean square error and r square\n",
        "mse = mean_squared_error(y_test, y_pred)\n",
        "r2 = r2_score(y_test, y_pred)\n",
        "\n",
        "print(\"Mean Squared Error:\", mse)\n",
        "print(\"R-squared:\", r2)"
      ],
      "metadata": {
        "colab": {
          "base_uri": "https://localhost:8080/"
        },
        "id": "EgU-D7xgegcf",
        "outputId": "5da9b820-f59b-4781-a238-7a815a61b1c8"
      },
      "execution_count": null,
      "outputs": [
        {
          "output_type": "stream",
          "name": "stdout",
          "text": [
            "Mean Squared Error: 0.057393095872421536\n",
            "R-squared: 0.5394681488836603\n"
          ]
        }
      ]
    },
    {
      "cell_type": "code",
      "source": [
        "model.score(X_train, Y_train) #train score"
      ],
      "metadata": {
        "colab": {
          "base_uri": "https://localhost:8080/"
        },
        "id": "0XiwaQBrT67k",
        "outputId": "c3559f00-d9bc-403d-f894-9e4477d2c75b"
      },
      "execution_count": null,
      "outputs": [
        {
          "output_type": "execute_result",
          "data": {
            "text/plain": [
              "0.9778812582087566"
            ]
          },
          "metadata": {},
          "execution_count": 135
        }
      ]
    },
    {
      "cell_type": "code",
      "source": [
        "model.score(X_test, Y_test) #test score"
      ],
      "metadata": {
        "colab": {
          "base_uri": "https://localhost:8080/"
        },
        "id": "CvRV2UZQUFGM",
        "outputId": "839eafca-2dfd-44f8-fb73-4ebd3eb66319"
      },
      "execution_count": null,
      "outputs": [
        {
          "output_type": "execute_result",
          "data": {
            "text/plain": [
              "0.5394681488836603"
            ]
          },
          "metadata": {},
          "execution_count": 136
        }
      ]
    },
    {
      "cell_type": "code",
      "source": [
        "#plotting the graph for decision tree regressor\n",
        "\n",
        "plt.scatter(X_test['Price'], y_test, color='b', label='Actual')\n",
        "plt.scatter(X_test['Price'], y_pred, color='r', label='Predicted')\n",
        "\n",
        "plt.xlabel('Price')\n",
        "plt.ylabel('Performance Rating')\n",
        "plt.title('Decision Tree Regression')\n",
        "plt.legend()\n",
        "plt.show()"
      ],
      "metadata": {
        "colab": {
          "base_uri": "https://localhost:8080/",
          "height": 472
        },
        "id": "t8g1mg3WXIjy",
        "outputId": "70777ec9-429d-4ee8-e4ed-f7bee92b0a72"
      },
      "execution_count": null,
      "outputs": [
        {
          "output_type": "display_data",
          "data": {
            "text/plain": [
              "<Figure size 640x480 with 1 Axes>"
            ],
            "image/png": "[encoded data removed]"
          },
          "metadata": {}
        }
      ]
    },
    {
      "cell_type": "markdown",
      "source": [
        "#Decision Tree Regressor perform much better than linear regression\n",
        "#Training data score = 97.7788125%\n",
        "#Test data score = 53.9%"
      ],
      "metadata": {
        "id": "QI8nncklVuYi"
      }
    }
  ]
}